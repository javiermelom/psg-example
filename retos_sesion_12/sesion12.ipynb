{
 "cells": [
  {
   "cell_type": "markdown",
   "metadata": {},
   "source": [
    "# Convertir y ejecutar el archivo de la \"sesion12.py\" a un archivo en jupyter notebook"
   ]
  },
  {
   "cell_type": "markdown",
   "metadata": {},
   "source": [
    "# ESTRUCTURAS DE CONTROL DE FLUJO\n",
    "### Sentencias condicionales\n",
    "\n",
    "### Estructura de control\n",
    "### En un programa las estructuras de control son el orden en el que se ejecutan las instrucciones\n",
    "### Python soporta las siguientes estructuras de control\n",
    "###       Secuencial o lineal -> Es la ejecución de las instrucciones en el orden en el que se escriben\n",
    "###           primero = 1\n",
    "###           segundo = 2\n",
    "###           tercero = 3\n",
    "###       Selección o condicionales\n",
    "###       Repetición o ciclos"
   ]
  },
  {
   "cell_type": "markdown",
   "metadata": {},
   "source": [
    "### El problema con la secuencialidad es que no siempre queremos que las instrucciones se ejecuten en el orden en el que se escriben\n",
    "### Para eso existen las estructuras de control de selección y repetición\n",
    "\n",
    "### Selección o condicionales\n",
    "### Las estructuras de selección o condicionales permiten ejecutar un bloque de código si se cumple una condición\n",
    "### Permite a los programas tomar decisiones y ejecutar diferentes acciones dependiendo de las condiciones\n",
    "### En Python se utilizan las siguientes condicionales\n",
    "###       if -> permite ejecutar un bloque de código si se cumple una condición. La condición tiene que ser un booleano\n",
    "###       else\n",
    "###       if anidado\n",
    "###       elif\n",
    "\n",
    "### Como se declara un if\n",
    "### if tiene la siguiente estructura\n",
    "### if condicion:\n",
    "###   print (\"Cumple\")\n",
    "\n",
    "### En Python la estructura de un condicional if es la siguiente"
   ]
  },
  {
   "cell_type": "code",
   "execution_count": 1,
   "metadata": {},
   "outputs": [
    {
     "name": "stdout",
     "output_type": "stream",
     "text": [
      "Inicio\n",
      "Cumple condición\n",
      "Fin\n"
     ]
    }
   ],
   "source": [
    "print (\"Inicio\")\n",
    "condicion = True\n",
    "if condicion:\n",
    "    # Bloque de código\n",
    "    print (\"Cumple condición\")\n",
    "print (\"Fin\")"
   ]
  },
  {
   "cell_type": "markdown",
   "metadata": {},
   "source": [
    "### Ejemplo: Dado un número, imprimir si es par"
   ]
  },
  {
   "cell_type": "code",
   "execution_count": 2,
   "metadata": {},
   "outputs": [
    {
     "name": "stdout",
     "output_type": "stream",
     "text": [
      "Inicio\n",
      "El número es par\n",
      "Fin\n"
     ]
    }
   ],
   "source": [
    "print (\"Inicio\")\n",
    "numero = 4\n",
    "if numero % 2 == 0: # Si el módulo de 2 es 0\n",
    "    print (\"El número es par\")\n",
    "print (\"Fin\")"
   ]
  },
  {
   "cell_type": "markdown",
   "metadata": {},
   "source": [
    "### if-else\n",
    "### La sentencia else permite ejecutar un bloque de código si no se cumple la condición del if\n",
    "### Si la condición es True se ejecuta el bloque de código del if\n",
    "### Si la condición es False se ejecuta el bloque de código del else\n",
    "\n",
    "### Como se declara un if-else\n",
    "### if-else tiene la siguiente estructura"
   ]
  },
  {
   "cell_type": "code",
   "execution_count": 3,
   "metadata": {},
   "outputs": [
    {
     "name": "stdout",
     "output_type": "stream",
     "text": [
      "Cumple\n"
     ]
    }
   ],
   "source": [
    "if condicion:\n",
    "    print (\"Cumple\")\n",
    "else:\n",
    "    print (\"No cumple\")"
   ]
  },
  {
   "cell_type": "markdown",
   "metadata": {},
   "source": [
    "### En Python la estructura de un condicional if-else es la siguiente"
   ]
  },
  {
   "cell_type": "code",
   "execution_count": 4,
   "metadata": {},
   "outputs": [
    {
     "name": "stdout",
     "output_type": "stream",
     "text": [
      "Inicio\n",
      "No cumple condición\n",
      "Fin\n"
     ]
    }
   ],
   "source": [
    "print (\"Inicio\")\n",
    "condicion = False\n",
    "if condicion:\n",
    "    # Bloque de código\n",
    "    print (\"Cumple condición\")\n",
    "else:\n",
    "    # Bloque de código\n",
    "    print (\"No cumple condición\")\n",
    "print (\"Fin\")"
   ]
  },
  {
   "cell_type": "markdown",
   "metadata": {},
   "source": [
    "### Ejemplo: Dado un número, imprimir si es par o impar"
   ]
  },
  {
   "cell_type": "code",
   "execution_count": 5,
   "metadata": {},
   "outputs": [
    {
     "name": "stdout",
     "output_type": "stream",
     "text": [
      "Inicio\n",
      "El número es impar\n",
      "Fin\n"
     ]
    }
   ],
   "source": [
    "print (\"Inicio\")\n",
    "numero = 3\n",
    "if numero % 2 == 0: # Si el módulo de 2 es 0\n",
    "    print (\"El número es par\")\n",
    "else:\n",
    "    print (\"El número es impar\")\n",
    "print (\"Fin\")"
   ]
  },
  {
   "cell_type": "markdown",
   "metadata": {},
   "source": [
    "### if-anidado\n",
    "### La sentencia if anidado permite ejecutar un bloque de código si se cumple una condición\n",
    "### Dentro del bloque de código del if-else se puede anidar otro if-else de manera ilimitada\n",
    "### Como se declara un if-anidado\n",
    "### if-anidado tiene la siguiente estructura"
   ]
  },
  {
   "cell_type": "code",
   "execution_count": 6,
   "metadata": {},
   "outputs": [
    {
     "name": "stdout",
     "output_type": "stream",
     "text": [
      "Inicio Anidado\n",
      "Cumple condición 1\n",
      "No cumple condición 2\n",
      "Fin\n"
     ]
    }
   ],
   "source": [
    "print (\"Inicio Anidado\")\n",
    "condicion_1 = True\n",
    "condicion_2 = False\n",
    "if condicion_1:\n",
    "    print (\"Cumple condición 1\")\n",
    "    if condicion_2:\n",
    "        print (\"Cumple condición 2\")\n",
    "    else:\n",
    "        print (\"No cumple condición 2\")\n",
    "else:\n",
    "    print (\"No cumple condición 1\")\n",
    "print (\"Fin\")"
   ]
  },
  {
   "cell_type": "markdown",
   "metadata": {},
   "source": [
    "### Ejemplo: Dado un número, imprimir si es par, impar o cero"
   ]
  },
  {
   "cell_type": "code",
   "execution_count": 7,
   "metadata": {},
   "outputs": [
    {
     "name": "stdout",
     "output_type": "stream",
     "text": [
      "Inicio Par, Impar o Cero\n",
      "El número es cero\n",
      "Fin\n"
     ]
    }
   ],
   "source": [
    "print (\"Inicio Par, Impar o Cero\")\n",
    "numero = 0  \n",
    "if numero > 0 or numero < 0:\n",
    "    if numero % 2 == 0: # Si el módulo de 2 es 0\n",
    "        print (\"El número es par\")\n",
    "    else:\n",
    "        print (\"El número es impar\")\n",
    "else:\n",
    "    print (\"El número es cero\")\n",
    "print (\"Fin\")"
   ]
  },
  {
   "cell_type": "markdown",
   "metadata": {},
   "source": [
    "### Una desventaja de los condicionales anidados es que pueden ser difíciles de leer y entender\n",
    "### Tener una indentación excesiva puede hacer que el código no sea optimo\n",
    "### En Python existe una estructura de control que permite simplificar los condicionales anidados\n",
    "### Se llama elif\n",
    "### La sentencia elif es la abreviatura de else if\n",
    "### Permite ejecutar un bloque de código si no se cumple la condición del if y sí cumple una nueva condición\n",
    "### En Python la estructura de un condicional elif es la siguiente"
   ]
  },
  {
   "cell_type": "code",
   "execution_count": 8,
   "metadata": {},
   "outputs": [
    {
     "name": "stdout",
     "output_type": "stream",
     "text": [
      "Inicio ELIF\n",
      "Cumple condición 2\n",
      "Fin\n"
     ]
    }
   ],
   "source": [
    "print (\"Inicio ELIF\")\n",
    "condicion_1 = False\n",
    "condicion_2 = True\n",
    "if condicion_1:\n",
    "    print (\"Cumple condición 1\")\n",
    "elif condicion_2:\n",
    "    print (\"Cumple condición 2\")\n",
    "else:\n",
    "    print (\"No cumple condición 1 ni 2\")\n",
    "print (\"Fin\")"
   ]
  },
  {
   "cell_type": "markdown",
   "metadata": {},
   "source": [
    "### Ejemplo: Dado un número, imprimir si es positivo, negativo o cero"
   ]
  },
  {
   "cell_type": "code",
   "execution_count": 9,
   "metadata": {},
   "outputs": [
    {
     "name": "stdout",
     "output_type": "stream",
     "text": [
      "Inicio Positivo, Negativo o Cero\n",
      "El número es negativo\n"
     ]
    }
   ],
   "source": [
    "print (\"Inicio Positivo, Negativo o Cero\")\n",
    "numero = -1\n",
    "if numero > 0:\n",
    "    print (\"El número es positivo\")\n",
    "elif numero < 0:\n",
    "    print (\"El número es negativo\")\n",
    "else:\n",
    "    print (\"El número es cero\")"
   ]
  },
  {
   "cell_type": "markdown",
   "metadata": {},
   "source": [
    "### Existe una forma de compactar una condicional en una sola línea. Se llama operador ternario\n",
    "### es una forma de compactar una condicional en una sola línea\n",
    "### Como su nombre lo indica, tiene tres partes\n",
    "###   Condición\n",
    "###   Resultado verdadero si es True\n",
    "###   Resultado falso si es False\n",
    "\n",
    "### resultado = verdadero if condicion else falso\n",
    "### En Python la estructura de un operador ternario es la siguiente"
   ]
  },
  {
   "cell_type": "code",
   "execution_count": 10,
   "metadata": {},
   "outputs": [
    {
     "name": "stdout",
     "output_type": "stream",
     "text": [
      "Inicio Ternario\n",
      "Cumple\n",
      "Fin\n"
     ]
    }
   ],
   "source": [
    "print (\"Inicio Ternario\")\n",
    "condicion = True\n",
    "resultado = \"Cumple\" if condicion else \"No cumple\"\n",
    "print (resultado)\n",
    "print (\"Fin\")"
   ]
  },
  {
   "cell_type": "markdown",
   "metadata": {},
   "source": [
    "### Ejemplo: Dado un número, imprimir si es par o impar"
   ]
  },
  {
   "cell_type": "code",
   "execution_count": 11,
   "metadata": {},
   "outputs": [
    {
     "name": "stdout",
     "output_type": "stream",
     "text": [
      "Inicio Ternario Par, Impar\n",
      "El número es impar\n",
      "Fin\n"
     ]
    }
   ],
   "source": [
    "print (\"Inicio Ternario Par, Impar\")\n",
    "numero = 3\n",
    "resultado = \"El número es par\" if numero % 2 == 0 else \"El número es impar\"\n",
    "print (resultado)\n",
    "print (\"Fin\")"
   ]
  },
  {
   "cell_type": "markdown",
   "metadata": {},
   "source": [
    "## ¿Qué es Truthiness?\n",
    "### Es un término que se utiliza para describir el valor de verdad de un objeto\n",
    "### En Python, todos los objetos tienen un valor de verdad\n",
    "### Hay valores que se consideran True y otros que se consideran False\n",
    "\n",
    "### En enteros\n",
    "###    0 es False\n",
    "###   1 es True\n",
    "###    -1 es True\n",
    "### Todos los números enteros positivos y negativos son True excepto 0\n",
    "### x∈Z∧x≠0\n",
    "\n",
    "### Se puede utilizar un entero como condición. Introducir dos números enteros y dividirlos"
   ]
  },
  {
   "cell_type": "code",
   "execution_count": 13,
   "metadata": {},
   "outputs": [
    {
     "name": "stdout",
     "output_type": "stream",
     "text": [
      "Truthiness Enteros\n",
      "5 2\n",
      "2.5\n",
      "Fin\n"
     ]
    }
   ],
   "source": [
    "print (\"Truthiness Enteros\")\n",
    "dividendo = int(input(\"Dividendo: \"))\n",
    "divisor = int(input(\"Divisor: \"))\n",
    "print (dividendo,divisor)\n",
    "if divisor: #divisor != 0\n",
    "    print (dividendo / divisor)\n",
    "else:\n",
    "    print (\"No se puede dividir entre cero\")\n",
    "print (\"Fin\")"
   ]
  },
  {
   "cell_type": "markdown",
   "metadata": {},
   "source": [
    "## En los flotantes\n",
    "###    0.0 es False\n",
    "###    1.0 es True\n",
    "###    -1.0 es True\n",
    "### Todos los números flotantes positivos y negativos son True excepto 0.0\n",
    "### x∈R∧x≠0.0\n",
    "\n",
    "### Se puede utilizar un flotante como condición\n",
    "### Introducir dos números flotantes y dividirlos"
   ]
  },
  {
   "cell_type": "code",
   "execution_count": 14,
   "metadata": {},
   "outputs": [
    {
     "name": "stdout",
     "output_type": "stream",
     "text": [
      "Truthiness Flotantes\n",
      "5.0 2.0\n",
      "2.5\n",
      "Fin\n"
     ]
    }
   ],
   "source": [
    "print (\"Truthiness Flotantes\")\n",
    "dividendo = float(input(\"Dividendo: \"))\n",
    "divisor = float(input(\"Divisor: \"))\n",
    "print (dividendo,divisor)\n",
    "if divisor: #divisor != 0.0\n",
    "    print (dividendo / divisor)\n",
    "else:\n",
    "    print (\"No se puede dividir entre cero\")\n",
    "print (\"Fin\")"
   ]
  },
  {
   "cell_type": "markdown",
   "metadata": {},
   "source": [
    "## En las cadenas\n",
    "###    \"\" es False\n",
    "###    \" \" es True\n",
    "###    \"hola\" es True\n",
    "###    \"0\" es True\n",
    "### Todas las cadenas no vacías son True\n",
    "### Las cadenas vacías son False\n",
    "\n",
    "### Se puede utilizar una cadena como condición\n",
    "### Introducir una cadena y verificar si es vacía"
   ]
  },
  {
   "cell_type": "code",
   "execution_count": 15,
   "metadata": {},
   "outputs": [
    {
     "name": "stdout",
     "output_type": "stream",
     "text": [
      "Truthiness Cadenas\n",
      "5\n",
      "La cadena no está vacía\n",
      "Fin\n"
     ]
    }
   ],
   "source": [
    "print (\"Truthiness Cadenas\")\n",
    "cadena = input(\"Cadena: \")\n",
    "print (cadena)\n",
    "if cadena: # len(cadena) != 0 or cadena != \"\" \n",
    "    print (\"La cadena no está vacía\")\n",
    "else:\n",
    "    print (\"La cadena está vacía\")\n",
    "print (\"Fin\")"
   ]
  },
  {
   "cell_type": "markdown",
   "metadata": {},
   "source": [
    "## En las tuplas\n",
    "###    () es False\n",
    "###   (0,) es True\n",
    "###    (\"0\",) es True\n",
    "###    (\"♎\",) es True\n",
    "### Todas las tuplas no vacías son True\n",
    "### Las tuplas vacías son False\n",
    "### Se puede utilizar una tupla como condición\n",
    "### Introducir una tupla y verificar si es vacía"
   ]
  },
  {
   "cell_type": "code",
   "execution_count": 16,
   "metadata": {},
   "outputs": [
    {
     "name": "stdout",
     "output_type": "stream",
     "text": [
      "Truthiness Tuplas\n",
      "('5',)\n",
      "La tupla no está vacía\n",
      "Fin\n"
     ]
    }
   ],
   "source": [
    "print (\"Truthiness Tuplas\")\n",
    "tupla = tuple(input(\"Tupla: \"))\n",
    "print (tupla)\n",
    "if tupla: # len(tupla) != 0 or tupla != ()\n",
    "    print (\"La tupla no está vacía\")\n",
    "else:\n",
    "    print (\"La tupla está vacía\")\n",
    "print (\"Fin\")"
   ]
  },
  {
   "cell_type": "markdown",
   "metadata": {},
   "source": [
    "## En las listas\n",
    "###    [] es False\n",
    "###    [0] es True\n",
    "###    [\"\"] es True\n",
    "###    [\"♎\"] es True\n",
    "### Todas las listas no vacías son True\n",
    "### Las listas vacías son False\n",
    "### Se puede utilizar una lista como condición\n",
    "### Introducir una lista y verificar si es vacía"
   ]
  },
  {
   "cell_type": "code",
   "execution_count": 17,
   "metadata": {},
   "outputs": [
    {
     "name": "stdout",
     "output_type": "stream",
     "text": [
      "Truthiness Listas\n",
      "['f']\n",
      "La lista no está vacía\n",
      "Fin\n"
     ]
    }
   ],
   "source": [
    "print (\"Truthiness Listas\")\n",
    "lista = list(input(\"Lista: \"))\n",
    "print (lista)\n",
    "if lista: # len(lista) != 0 or lista != []\n",
    "    print (\"La lista no está vacía\")\n",
    "else:\n",
    "    print (\"La lista está vacía\")\n",
    "print (\"Fin\")"
   ]
  },
  {
   "cell_type": "markdown",
   "metadata": {},
   "source": [
    "## En conjuntos\n",
    "###    set() es False\n",
    "###    {0} es True\n",
    "###    {\"0\"} es True\n",
    "###    {\"♎\"} es True\n",
    "### Todos los conjuntos no vacíos son True\n",
    "### Los conjuntos vacíos son False\n",
    "### Se puede utilizar un conjunto como condición\n",
    "### Introducir un conjunto y verificar si es vacío"
   ]
  },
  {
   "cell_type": "code",
   "execution_count": 18,
   "metadata": {},
   "outputs": [
    {
     "name": "stdout",
     "output_type": "stream",
     "text": [
      "Truthiness Conjuntos\n",
      "{'f'}\n",
      "El conjunto no está vacío\n",
      "Fin\n"
     ]
    }
   ],
   "source": [
    "print (\"Truthiness Conjuntos\")\n",
    "conjunto = set(input(\"Conjunto: \"))\n",
    "print (conjunto)\n",
    "if conjunto: # len(conjunto) != 0 or conjunto != set()\n",
    "    print (\"El conjunto no está vacío\")\n",
    "else:\n",
    "    print (\"El conjunto está vacío\")\n",
    "print (\"Fin\")"
   ]
  },
  {
   "cell_type": "markdown",
   "metadata": {},
   "source": [
    "## En diccionarios\n",
    "###    {} es False\n",
    "###    {'': ''} es True\n",
    "###    {\"0\":0} es True\n",
    "###   {\"♎\":\"Libra\"} es True\n",
    "### Todos los diccionarios no vacíos son True\n",
    "### Los diccionarios vacíos son False\n",
    "### Se puede utilizar un diccionario como condición\n",
    "### Introducir la clave y un valor y verificar si es vacío"
   ]
  },
  {
   "cell_type": "code",
   "execution_count": 19,
   "metadata": {},
   "outputs": [
    {
     "name": "stdout",
     "output_type": "stream",
     "text": [
      "Truthiness Diccionarios\n",
      "{'name': 'javier'}\n",
      "El diccionario no está vacío\n",
      "Fin\n"
     ]
    }
   ],
   "source": [
    "print (\"Truthiness Diccionarios\")\n",
    "diccionario = {}\n",
    "clave = input(\"Clave: \")\n",
    "valor = input(\"Valor: \")\n",
    "if clave:\n",
    "  diccionario = {clave:valor}\n",
    "print (diccionario)\n",
    "if diccionario: # diccionario != {}\n",
    "    print (\"El diccionario no está vacío\")\n",
    "else:\n",
    "    print (\"El diccionario está vacío\")\n",
    "print (\"Fin\")"
   ]
  },
  {
   "cell_type": "markdown",
   "metadata": {},
   "source": [
    "## None es un valor especial en Python\n",
    "### None es False\n",
    "### None es un valor especial que representa la ausencia de un valor\n",
    "### Se puede utilizar None como condición\n",
    "### Introducir un valor y verificar si es None"
   ]
  },
  {
   "cell_type": "code",
   "execution_count": 20,
   "metadata": {},
   "outputs": [
    {
     "name": "stdout",
     "output_type": "stream",
     "text": [
      "Truthiness None\n",
      "None <class 'NoneType'>\n",
      "El valor es None\n",
      "Fin\n"
     ]
    }
   ],
   "source": [
    "print (\"Truthiness None\")\n",
    "valor = None\n",
    "print (valor, type(valor))\n",
    "if valor: # valor != None\n",
    "    print (\"El valor no es None\")\n",
    "else:\n",
    "    print (\"El valor es None\")\n",
    "print (\"Fin\")"
   ]
  },
  {
   "cell_type": "markdown",
   "metadata": {},
   "source": [
    "## Con operadores ternarios es bastante útil para asignar valores a variables"
   ]
  },
  {
   "cell_type": "code",
   "execution_count": 21,
   "metadata": {},
   "outputs": [
    {
     "name": "stdout",
     "output_type": "stream",
     "text": [
      "Diferente de 0\n",
      "Diferente de 0.0\n",
      "No está vacía\n"
     ]
    }
   ],
   "source": [
    "entero = int(input(\"Entero: \"))\n",
    "resultado = \"Diferente de 0\" if entero else \"Igual a 0\"\n",
    "print (resultado)\n",
    "flotante = float(input(\"Flotante: \"))\n",
    "resultado = \"Diferente de 0.0\" if flotante else \"Igual a 0.0\"\n",
    "print (resultado)\n",
    "cadena = input(\"Cadena: \")\n",
    "resultado = \"No está vacía\" if cadena else \"Está vacía\"\n",
    "print (resultado)"
   ]
  },
  {
   "cell_type": "markdown",
   "metadata": {},
   "source": [
    "# Ejemplo 1\n",
    "### Tienes un dispositivo que mide la temperatura y si la temperatura es mayor a 30°C\n",
    "### enciende un ventilador y si es menor a 20°C lo apaga"
   ]
  },
  {
   "cell_type": "code",
   "execution_count": 22,
   "metadata": {},
   "outputs": [
    {
     "name": "stdout",
     "output_type": "stream",
     "text": [
      "Valor de temperatura menor a 30 y mayor a 20\n"
     ]
    }
   ],
   "source": [
    "temp = int(input(\"Digite la temperatura:\"))\n",
    "if (temp > 30):\n",
    "    print (\"ventilador encendido\")\n",
    "elif (temp < 20):\n",
    "    print (\"Ventilador apagado\")\n",
    "else:\n",
    "    print (\"Valor de temperatura menor a 30 y mayor a 20\")"
   ]
  },
  {
   "cell_type": "markdown",
   "metadata": {},
   "source": [
    "# Ejemplo 2\n",
    "### Tienes una cesta de frutas y quieres saber si tienes manzanas, si hay manzanas \n",
    "### las cuentas y si no hay compras dos manzanas"
   ]
  },
  {
   "cell_type": "code",
   "execution_count": 23,
   "metadata": {},
   "outputs": [
    {
     "name": "stdout",
     "output_type": "stream",
     "text": [
      "La cesta esta vacia\n"
     ]
    }
   ],
   "source": [
    "cesta = (\"manzana\", \"pera\", \"manzana\", \"manzana\", \"durazno\")\n",
    "if cesta:\n",
    "    print (\"La cesta esta vacia\")\n",
    "else:\n",
    "    print (cesta.count(\"manzana\"))"
   ]
  },
  {
   "cell_type": "code",
   "execution_count": 24,
   "metadata": {},
   "outputs": [
    {
     "name": "stdout",
     "output_type": "stream",
     "text": [
      "['🍎', '🍑', '🍓', '🍉']\n",
      "Hay 1 manzanas\n"
     ]
    }
   ],
   "source": [
    "# con solo un if\n",
    "cesta = ['🍎','🍑','🍓','🍉']\n",
    "print (cesta)\n",
    "if '🍎' in cesta:\n",
    "    print (f\"Hay {cesta.count('🍎')} manzanas\")\n",
    "else:\n",
    "    cesta.extend(['🍎','🍎'])\n",
    "    print (cesta)"
   ]
  },
  {
   "cell_type": "code",
   "execution_count": 25,
   "metadata": {},
   "outputs": [
    {
     "name": "stdout",
     "output_type": "stream",
     "text": [
      "['🍑', '🍓', '🍉']\n",
      "None\n",
      "['🍑', '🍓', '🍉', '🍎', '🍎']\n"
     ]
    }
   ],
   "source": [
    "# Con operador ternario\n",
    "cesta = ['🍑','🍓','🍉']\n",
    "print (cesta)\n",
    "resultado = f\"Hay {cesta.count('🍎')} manzanas\" if '🍎' in cesta else cesta.extend(['🍎','🍎'])\n",
    "print (resultado)\n",
    "print (cesta)"
   ]
  },
  {
   "cell_type": "markdown",
   "metadata": {},
   "source": [
    "# Ejemplo 3\n",
    "### En un diccionario tienes almacenado un animal y quieres saber si es un mamífero"
   ]
  },
  {
   "cell_type": "code",
   "execution_count": 26,
   "metadata": {},
   "outputs": [
    {
     "name": "stdout",
     "output_type": "stream",
     "text": [
      "es mamifero\n"
     ]
    }
   ],
   "source": [
    "animal = {'especie':'🐶', 'nombre': 'Firulais', 'mamifero': True}\n",
    "consulta = 'mamifero'\n",
    "if animal.get(consulta):\n",
    "    print('es mamifero')\n",
    "else:\n",
    "    print('no es mamifero')"
   ]
  },
  {
   "cell_type": "markdown",
   "metadata": {},
   "source": [
    "# Ejemplo 4\n",
    "### Dado dos conjuntos, verificar si tienen elementos en común y mostrarlos y si no, unirlos\n",
    "### # {'⚽','🏀','🏐'} , {'🏈','🏉','🏓'}"
   ]
  },
  {
   "cell_type": "code",
   "execution_count": 27,
   "metadata": {},
   "outputs": [
    {
     "name": "stdout",
     "output_type": "stream",
     "text": [
      "{'🏀', '🏐', '⚽'} {'🏈', '🏉', '🏓'}\n",
      "{'🏈', '🏉', '🏀', '🏐', '⚽', '🏓'}\n"
     ]
    }
   ],
   "source": [
    "conjunto_1 = {'⚽','🏀','🏐'}\n",
    "conjunto_2 = {'🏈','🏉','🏓'}\n",
    "print (conjunto_1, conjunto_2)\n",
    "if conjunto_1.isdisjoint(conjunto_2): # len(conjunto_1.intersection(conjunto_2)) == 0\n",
    "    conjunto_1.update(conjunto_2)\n",
    "    print (conjunto_1)\n",
    "else:\n",
    "    print (\"Tienen elementos en común\")\n",
    "    print (conjunto_1.intersection(conjunto_2))"
   ]
  },
  {
   "cell_type": "markdown",
   "metadata": {},
   "source": [
    "# Ejemplo 5\n",
    "### Validar si un correo electrónico es válido usando input\n",
    "\n",
    "###    ✅: mail@domain.com, ma.il@domain.com\n",
    "###    ❌: mail@domain, maildomain.com, @.\n",
    "###    ❌: mail@@domain.com, mail@.com"
   ]
  },
  {
   "cell_type": "code",
   "execution_count": 28,
   "metadata": {},
   "outputs": [
    {
     "name": "stdout",
     "output_type": "stream",
     "text": [
      "El correo es válido\n"
     ]
    }
   ],
   "source": [
    "# Solución anidada\n",
    "correo = input(\"Correo: \")\n",
    "if \"@\" in correo and \".\" in correo and correo.count(\"@\") == 1:\n",
    "    if correo.find(\"@\") < correo.rfind(\".\") and correo.find(\"@\") > 0 and correo.rfind(\".\") < len(correo) - 1:\n",
    "        if correo.rfind(\".\") - correo.find(\"@\") > 1:\n",
    "            if correo.find(\".\") - correo.find(\"@\") > 1:\n",
    "                print (\"El correo es válido\")\n",
    "            else:\n",
    "                print (\"El correo no es válido\")\n",
    "        else:\n",
    "            print (\"El correo no es válido\")\n",
    "    else:\n",
    "        print (\"El correo no es válido\")\n",
    "else:\n",
    "    print (\"El correo no es válido\")"
   ]
  },
  {
   "cell_type": "code",
   "execution_count": 29,
   "metadata": {},
   "outputs": [
    {
     "name": "stdout",
     "output_type": "stream",
     "text": [
      "El correo no es válido\n"
     ]
    }
   ],
   "source": [
    "# Solución con elif\n",
    "correo = input(\"Correo: \")\n",
    "if \"@\" not in correo or \".\" not in correo or correo.count(\"@\") != 1:\n",
    "    print(\"El correo no es válido\")\n",
    "elif correo.find(\"@\") >= correo.rfind(\".\") or correo.find(\"@\") == 0 or correo.rfind(\".\") == len(correo) - 1:\n",
    "    print(\"El correo no es válido\")\n",
    "elif correo.rfind(\".\") - correo.find(\"@\") <= 1:\n",
    "    print(\"El correo no es válido\")\n",
    "elif correo.find(\".\") - correo.find(\"@\") == 1:\n",
    "    print(\"El correo no es válido\")\n",
    "else:\n",
    "    print(\"El correo es válido\")"
   ]
  }
 ],
 "metadata": {
  "kernelspec": {
   "display_name": "Python 3",
   "language": "python",
   "name": "python3"
  },
  "language_info": {
   "codemirror_mode": {
    "name": "ipython",
    "version": 3
   },
   "file_extension": ".py",
   "mimetype": "text/x-python",
   "name": "python",
   "nbconvert_exporter": "python",
   "pygments_lexer": "ipython3",
   "version": "3.12.2"
  }
 },
 "nbformat": 4,
 "nbformat_minor": 2
}
