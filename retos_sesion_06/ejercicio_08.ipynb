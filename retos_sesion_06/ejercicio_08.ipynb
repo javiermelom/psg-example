{
 "cells": [
  {
   "cell_type": "markdown",
   "metadata": {},
   "source": [
    "# Convertir y ejecutar el archivo de la \"sesion06.py\" a un archivo en jupyter notebook"
   ]
  },
  {
   "cell_type": "markdown",
   "metadata": {},
   "source": [
    "## Tipos de datos booleanos"
   ]
  },
  {
   "cell_type": "code",
   "execution_count": 20,
   "metadata": {},
   "outputs": [
    {
     "name": "stdout",
     "output_type": "stream",
     "text": [
      "True\n",
      "False\n",
      "2\n",
      "1\n",
      "0\n",
      "0\n",
      "0\n"
     ]
    }
   ],
   "source": [
    "print (True)\n",
    "print (False)\n",
    "print (True + True)\n",
    "print (True * True)\n",
    "print (True * False)\n",
    "print (False + False)\n",
    "print (False * False)"
   ]
  },
  {
   "cell_type": "markdown",
   "metadata": {},
   "source": [
    "## \"Números y booleanos\""
   ]
  },
  {
   "cell_type": "code",
   "execution_count": 21,
   "metadata": {},
   "outputs": [
    {
     "name": "stdout",
     "output_type": "stream",
     "text": [
      "11\n",
      "10\n",
      "10\n",
      "0\n"
     ]
    }
   ],
   "source": [
    "print (10 + True)\n",
    "print (10 + False)\n",
    "print (10 * True)\n",
    "print (10 * False)"
   ]
  },
  {
   "cell_type": "markdown",
   "metadata": {},
   "source": [
    "## Declarar variables booleanas"
   ]
  },
  {
   "cell_type": "code",
   "execution_count": 22,
   "metadata": {},
   "outputs": [
    {
     "name": "stdout",
     "output_type": "stream",
     "text": [
      "True\n",
      "<class 'bool'>\n",
      "False\n",
      "<class 'bool'>\n"
     ]
    }
   ],
   "source": [
    "var_booleana = True\n",
    "print (var_booleana)\n",
    "print (type(var_booleana))\n",
    "var_booleana = False\n",
    "print (var_booleana)\n",
    "print (type(var_booleana))"
   ]
  },
  {
   "cell_type": "markdown",
   "metadata": {},
   "source": [
    "## Declarar mediante función bool()"
   ]
  },
  {
   "cell_type": "code",
   "execution_count": 23,
   "metadata": {},
   "outputs": [
    {
     "name": "stdout",
     "output_type": "stream",
     "text": [
      "True\n",
      "<class 'bool'>\n",
      "False\n",
      "<class 'bool'>\n",
      "True\n",
      "<class 'bool'>\n"
     ]
    }
   ],
   "source": [
    "var_booleana = bool(1)\n",
    "print (var_booleana)\n",
    "print (type(var_booleana))\n",
    "var_booleana = bool(0)\n",
    "print (var_booleana)\n",
    "print (type(var_booleana))\n",
    "var_booleana = bool(15)\n",
    "print (var_booleana)\n",
    "print (type(var_booleana))"
   ]
  },
  {
   "cell_type": "markdown",
   "metadata": {},
   "source": [
    "## Operadores de comparación"
   ]
  },
  {
   "cell_type": "code",
   "execution_count": 27,
   "metadata": {},
   "outputs": [
    {
     "name": "stdout",
     "output_type": "stream",
     "text": [
      "False\n",
      "False\n",
      "False\n",
      "True\n",
      "True\n",
      "True\n",
      "False\n",
      "False\n"
     ]
    },
    {
     "name": "stderr",
     "output_type": "stream",
     "text": [
      "<>:7: SyntaxWarning: \"is\" with 'int' literal. Did you mean \"==\"?\n",
      "<>:8: SyntaxWarning: \"is not\" with 'int' literal. Did you mean \"!=\"?\n",
      "<>:9: SyntaxWarning: \"is\" with 'int' literal. Did you mean \"==\"?\n",
      "<>:7: SyntaxWarning: \"is\" with 'int' literal. Did you mean \"==\"?\n",
      "<>:8: SyntaxWarning: \"is not\" with 'int' literal. Did you mean \"!=\"?\n",
      "<>:9: SyntaxWarning: \"is\" with 'int' literal. Did you mean \"==\"?\n",
      "C:\\Users\\javie\\AppData\\Local\\Temp\\ipykernel_14988\\112129904.py:7: SyntaxWarning: \"is\" with 'int' literal. Did you mean \"==\"?\n",
      "  print (10 is 10)\n",
      "C:\\Users\\javie\\AppData\\Local\\Temp\\ipykernel_14988\\112129904.py:8: SyntaxWarning: \"is not\" with 'int' literal. Did you mean \"!=\"?\n",
      "  print (10 is not 10)\n",
      "C:\\Users\\javie\\AppData\\Local\\Temp\\ipykernel_14988\\112129904.py:9: SyntaxWarning: \"is\" with 'int' literal. Did you mean \"==\"?\n",
      "  print (10 is 10.0)\n"
     ]
    }
   ],
   "source": [
    "print (10 == 10)\n",
    "print (10 != 10)\n",
    "print (10 < 10)\n",
    "print (10 > 10)\n",
    "print (10 <= 10)\n",
    "print (10 >= 10)\n",
    "print (10 is 10)\n",
    "print (10 is not 10)\n",
    "print (10 is 10.0)\n",
    "print (10 is not 10.0)"
   ]
  },
  {
   "cell_type": "markdown",
   "metadata": {},
   "source": [
    "## Asignación de variables"
   ]
  },
  {
   "cell_type": "code",
   "execution_count": 28,
   "metadata": {},
   "outputs": [
    {
     "name": "stdout",
     "output_type": "stream",
     "text": [
      "True\n",
      "False\n"
     ]
    }
   ],
   "source": [
    "x = 10\n",
    "mayor_que_cero = x > 0\n",
    "print (mayor_que_cero)\n",
    "diferente_de_10 = x != 10\n",
    "print (diferente_de_10)"
   ]
  },
  {
   "cell_type": "markdown",
   "metadata": {},
   "source": [
    "## Operadores lógicos"
   ]
  },
  {
   "cell_type": "code",
   "execution_count": 29,
   "metadata": {},
   "outputs": [
    {
     "name": "stdout",
     "output_type": "stream",
     "text": [
      "True\n",
      "False\n",
      "True\n",
      "False\n",
      "False\n",
      "True\n"
     ]
    }
   ],
   "source": [
    "print (True and True)\n",
    "print (True and False)\n",
    "print (False or True)\n",
    "print (False or False)\n",
    "print (not True)\n",
    "print (not False)"
   ]
  },
  {
   "cell_type": "markdown",
   "metadata": {},
   "source": [
    "## Operadores lógicos y prioridad"
   ]
  },
  {
   "cell_type": "code",
   "execution_count": 30,
   "metadata": {},
   "outputs": [
    {
     "name": "stdout",
     "output_type": "stream",
     "text": [
      "True\n",
      "False\n",
      "True\n",
      "True\n",
      "False\n",
      "False\n"
     ]
    }
   ],
   "source": [
    "print (False and False or True)\n",
    "print (False and (False or True))\n",
    "print (not True and False or True)\n",
    "print (not (True and False or False))\n",
    "print (not True and (False or False))\n",
    "print (not True and False or False)"
   ]
  },
  {
   "cell_type": "markdown",
   "metadata": {},
   "source": [
    "## Operador AND"
   ]
  },
  {
   "cell_type": "code",
   "execution_count": 31,
   "metadata": {},
   "outputs": [
    {
     "name": "stdout",
     "output_type": "stream",
     "text": [
      "True\n",
      "False\n",
      "False\n",
      "False\n"
     ]
    }
   ],
   "source": [
    "print (True and True)\n",
    "print (True and False)\n",
    "print (False and True)\n",
    "print (False and False)"
   ]
  },
  {
   "cell_type": "markdown",
   "metadata": {},
   "source": [
    "## print (\"Operador OR\")"
   ]
  },
  {
   "cell_type": "code",
   "execution_count": 33,
   "metadata": {},
   "outputs": [
    {
     "name": "stdout",
     "output_type": "stream",
     "text": [
      "True\n",
      "True\n",
      "True\n",
      "False\n"
     ]
    }
   ],
   "source": [
    "print (True or True)\n",
    "print (True or False)\n",
    "print (False or True)\n",
    "print (False or False)"
   ]
  },
  {
   "cell_type": "markdown",
   "metadata": {},
   "source": [
    "## Operador NOT"
   ]
  },
  {
   "cell_type": "code",
   "execution_count": 32,
   "metadata": {},
   "outputs": [
    {
     "name": "stdout",
     "output_type": "stream",
     "text": [
      "False\n",
      "True\n"
     ]
    }
   ],
   "source": [
    "print (not True)\n",
    "print (not False)"
   ]
  },
  {
   "cell_type": "markdown",
   "metadata": {},
   "source": [
    "## Operador NAND"
   ]
  },
  {
   "cell_type": "code",
   "execution_count": 34,
   "metadata": {},
   "outputs": [
    {
     "name": "stdout",
     "output_type": "stream",
     "text": [
      "False\n",
      "True\n",
      "True\n",
      "True\n"
     ]
    }
   ],
   "source": [
    "print (not (True and True))\n",
    "print (not (True and False))\n",
    "print (not (False and True))\n",
    "print (not (False and False))"
   ]
  },
  {
   "cell_type": "markdown",
   "metadata": {},
   "source": [
    "## Operador NOR"
   ]
  },
  {
   "cell_type": "code",
   "execution_count": 35,
   "metadata": {},
   "outputs": [
    {
     "name": "stdout",
     "output_type": "stream",
     "text": [
      "False\n",
      "False\n",
      "False\n",
      "True\n"
     ]
    }
   ],
   "source": [
    "print (not (True or True))\n",
    "print (not (True or False))\n",
    "print (not (False or True))\n",
    "print (not (False or False))"
   ]
  },
  {
   "cell_type": "markdown",
   "metadata": {},
   "source": [
    "## Operador XOR"
   ]
  },
  {
   "cell_type": "code",
   "execution_count": 36,
   "metadata": {},
   "outputs": [
    {
     "name": "stdout",
     "output_type": "stream",
     "text": [
      "True\n",
      "False\n"
     ]
    }
   ],
   "source": [
    "a = True\n",
    "b = False\n",
    "print ((a or b) and not (a and b))\n",
    "a = True\n",
    "b = True\n",
    "print ((a or b) and not (a and b))"
   ]
  },
  {
   "cell_type": "markdown",
   "metadata": {},
   "source": [
    "## Ejemplo sensor y bateria"
   ]
  },
  {
   "cell_type": "code",
   "execution_count": 37,
   "metadata": {},
   "outputs": [
    {
     "name": "stdout",
     "output_type": "stream",
     "text": [
      "Ejemplo de uso Sensor y Batería\n",
      "True and True = True\n",
      "True and False = False\n",
      "False and True = False\n",
      "False and False = False\n"
     ]
    }
   ],
   "source": [
    "print (\"Ejemplo de uso Sensor y Batería\")\n",
    "sensor = True\n",
    "bateria = True\n",
    "print (sensor, \"and\", bateria, \"=\", sensor and bateria)\n",
    "sensor = True\n",
    "bateria = False\n",
    "print (sensor, \"and\", bateria, \"=\", sensor and bateria)\n",
    "sensor = False\n",
    "bateria = True\n",
    "print (sensor, \"and\", bateria, \"=\", sensor and bateria)\n",
    "sensor = False\n",
    "bateria = False\n",
    "print (sensor, \"and\", bateria, \"=\", sensor and bateria)"
   ]
  },
  {
   "cell_type": "markdown",
   "metadata": {},
   "source": [
    "## Determine si el numero 20 esta en el rango a a 100"
   ]
  },
  {
   "cell_type": "code",
   "execution_count": 38,
   "metadata": {},
   "outputs": [
    {
     "name": "stdout",
     "output_type": "stream",
     "text": [
      "True\n"
     ]
    }
   ],
   "source": [
    "num = 20\n",
    "print (num >= 0 & num <= 100)"
   ]
  },
  {
   "cell_type": "markdown",
   "metadata": {},
   "source": [
    "## Un estudiante obtuvo las siguientes notas en sus examenes: 15, 20, 16. Determinar si el estudiante aprobo con una nota susperior a 50"
   ]
  },
  {
   "cell_type": "code",
   "execution_count": 39,
   "metadata": {},
   "outputs": [
    {
     "name": "stdout",
     "output_type": "stream",
     "text": [
      "True\n",
      "Estudiante si aprobo con nota de:  51\n"
     ]
    }
   ],
   "source": [
    "nota1 = 15\n",
    "nota2 = 20\n",
    "nota3 = 16\n",
    "suma = nota1 + nota2 + nota3\n",
    "print (suma >= 50)\n",
    "print (\"Estudiante si aprobo con nota de: \", suma)"
   ]
  },
  {
   "cell_type": "markdown",
   "metadata": {},
   "source": [
    "## Determinar si el numero 15 es divisible por 3 y 5 pero no por 2"
   ]
  },
  {
   "cell_type": "code",
   "execution_count": 40,
   "metadata": {},
   "outputs": [
    {
     "name": "stdout",
     "output_type": "stream",
     "text": [
      "True\n"
     ]
    }
   ],
   "source": [
    "numb = 15\n",
    "div3 = 3\n",
    "div5 = 5\n",
    "noDiv2 = 2\n",
    "print ((numb % div3 == False) & (numb % div5 == False) & (numb % noDiv2 != False))"
   ]
  },
  {
   "cell_type": "code",
   "execution_count": 42,
   "metadata": {},
   "outputs": [
    {
     "name": "stdout",
     "output_type": "stream",
     "text": [
      "Cortocircuito con operador and\n",
      "False\n"
     ]
    }
   ],
   "source": [
    "print (\"Cortocircuito con operador and\")\n",
    "x = 1\n",
    "y = 0\n",
    "print (x > 2 and (x/y) > 2)\n",
    "# print (x > 0 and (x/y) > 0)"
   ]
  }
 ],
 "metadata": {
  "kernelspec": {
   "display_name": "Python 3",
   "language": "python",
   "name": "python3"
  },
  "language_info": {
   "codemirror_mode": {
    "name": "ipython",
    "version": 3
   },
   "file_extension": ".py",
   "mimetype": "text/x-python",
   "name": "python",
   "nbconvert_exporter": "python",
   "pygments_lexer": "ipython3",
   "version": "3.12.2"
  }
 },
 "nbformat": 4,
 "nbformat_minor": 2
}
