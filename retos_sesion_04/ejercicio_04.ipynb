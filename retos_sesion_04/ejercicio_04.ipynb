{
 "cells": [
  {
   "cell_type": "markdown",
   "metadata": {},
   "source": [
    "\n",
    "    Crea un archivo \"ejercicio_04.ipynb\", y diseña un juego\n",
    "\n",
    "    El título y descripción deben ser un bloque de markdown\n",
    "    Las reglas deben ser un bloque de markdown\n",
    "    El diseño del tablero debe ser un bloque de código en Python con prints\n",
    "    La descripción de las piezas debe ser un bloque de markdown\n",
    "    El diseño de las piezas debe ser un bloque de código en Python con prints\n"
   ]
  }
 ],
 "metadata": {
  "language_info": {
   "name": "python"
  }
 },
 "nbformat": 4,
 "nbformat_minor": 2
}
