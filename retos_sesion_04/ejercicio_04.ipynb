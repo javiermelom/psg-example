{
 "cells": [
  {
   "cell_type": "markdown",
   "metadata": {},
   "source": [
    "\n",
    "    Crea un archivo \"ejercicio_04.ipynb\", y diseña un juego\n",
    "\n",
    "    El título y descripción deben ser un bloque de markdown\n",
    "    Las reglas deben ser un bloque de markdown\n",
    "    El diseño del tablero debe ser un bloque de código en Python con prints\n",
    "    La descripción de las piezas debe ser un bloque de markdown\n",
    "    El diseño de las piezas debe ser un bloque de código en Python con prints\n"
   ]
  },
  {
   "cell_type": "markdown",
   "metadata": {},
   "source": [
    "#                                                               TWIN DICES\n",
    "> The play is about ***two dices***. This game is possible for two o more people.\n",
    "> Each player can throw two dices for __three times__. \n",
    "> The player *must get the greatest number of repeated numbers* on the dices in three times.\n",
    "> The winner will be the one who gets the three correct throws.\n",
    "> If two or more players get three correct throws, it´s considered dead heat.                                                    "
   ]
  },
  {
   "cell_type": "code",
   "execution_count": 2,
   "metadata": {},
   "outputs": [
    {
     "name": "stdout",
     "output_type": "stream",
     "text": [
      "*********************************\n",
      "*      _______                  *\n",
      "*     |       |                 *\n",
      "*     |   5   |                 *\n",
      "*     |       |                 *\n",
      "*     |_______|                 *\n",
      "*                               *\n",
      "*                               *\n",
      "*                               *\n",
      "*                               *\n",
      "*                  _______      *\n",
      "*                 |       |     *\n",
      "*                 |   5   |     *\n",
      "*                 |       |     *\n",
      "*                 |_______|     *\n",
      "*                               *\n",
      "*********************************\n"
     ]
    }
   ],
   "source": [
    "print (\"*********************************\")\n",
    "print (\"*      _______                  *\")\n",
    "print (\"*     |       |                 *\")\n",
    "print (\"*     |   5   |                 *\")\n",
    "print (\"*     |       |                 *\")\n",
    "print (\"*     |_______|                 *\")\n",
    "print (\"*                               *\")\n",
    "print (\"*                               *\")\n",
    "print (\"*                               *\")\n",
    "print (\"*                               *\")\n",
    "print (\"*                  _______      *\")\n",
    "print (\"*                 |       |     *\")\n",
    "print (\"*                 |   5   |     *\")\n",
    "print (\"*                 |       |     *\")\n",
    "print (\"*                 |_______|     *\")\n",
    "print (\"*                               *\")\n",
    "print (\"*********************************\")"
   ]
  },
  {
   "cell_type": "markdown",
   "metadata": {},
   "source": [
    "## The pieces\n",
    "![Dices](./Dices.jpg)"
   ]
  }
 ],
 "metadata": {
  "kernelspec": {
   "display_name": "Python 3",
   "language": "python",
   "name": "python3"
  },
  "language_info": {
   "codemirror_mode": {
    "name": "ipython",
    "version": 3
   },
   "file_extension": ".py",
   "mimetype": "text/x-python",
   "name": "python",
   "nbconvert_exporter": "python",
   "pygments_lexer": "ipython3",
   "version": "3.12.2"
  }
 },
 "nbformat": 4,
 "nbformat_minor": 2
}
