{
 "cells": [
  {
   "cell_type": "markdown",
   "metadata": {},
   "source": [
    "\n",
    "# Crea un archivo \"ejercicio_02.ipynb\", \n",
    "**añade** un texto ***markdown*** con la descripción del ejercicio _\"2\"_ y crea una imagen utilizando símbolos y prints\n",
    "\n",
    "## Símbolos: * - , () \\ | / _ \" ' = C"
   ]
  },
  {
   "cell_type": "code",
   "execution_count": 2,
   "metadata": {},
   "outputs": [
    {
     "name": "stdout",
     "output_type": "stream",
     "text": [
      "\"\"\"\"\"\"\"\"\"\"\"\"\"\n",
      "  (')   (')  \n",
      "'     |     '\n",
      "    ====     \n"
     ]
    }
   ],
   "source": [
    "print('\"\"\"\"\"\"\"\"\"\"\"\"\"')\n",
    "print(\"  (')   (')  \")\n",
    "print(\"'     |     '\")\n",
    "print(\"    ====     \")\n"
   ]
  }
 ],
 "metadata": {
  "kernelspec": {
   "display_name": "Python 3",
   "language": "python",
   "name": "python3"
  },
  "language_info": {
   "codemirror_mode": {
    "name": "ipython",
    "version": 3
   },
   "file_extension": ".py",
   "mimetype": "text/x-python",
   "name": "python",
   "nbconvert_exporter": "python",
   "pygments_lexer": "ipython3",
   "version": "3.12.2"
  }
 },
 "nbformat": 4,
 "nbformat_minor": 2
}
