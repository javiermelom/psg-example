{
 "cells": [
  {
   "cell_type": "markdown",
   "metadata": {},
   "source": [
    "# Convertir y ejecutar el archivo de la \"sesion10.py\" a un archivo en jupyter notebook"
   ]
  },
  {
   "cell_type": "markdown",
   "metadata": {},
   "source": [
    "# CONJUNTOS\n",
    "## ¿Qué es un conjunto?\n",
    "### Un conjunto es una estructura de datos, al igual que una lista o una tupla\n",
    "*Al igual que las listas almacena objetos o items que puede ser de a cualquier tipo*\n",
    "# **Se llaman conjuntos porque en matemáticas un conjunto es una colección de elementos únicos sin orden definido**\n",
    "### Python adopta la misma definición de conjunto de matemáticas\n",
    "### Un conjunto es una secuencia de objetos MUTABLES\n",
    "###   NO ordenados\n",
    "###   NO indexados\n",
    "###   NO duplicados\n",
    "### Mutable: Los elementos de un conjunto pueden ser modificados después de su creación"
   ]
  },
  {
   "cell_type": "code",
   "execution_count": 11,
   "metadata": {},
   "outputs": [
    {
     "name": "stdout",
     "output_type": "stream",
     "text": [
      "{'🍕', '🍟', '🌭', '🍔'}\n",
      "{'🍕', '🥗', '🌭', '🍟', '🍔'}\n"
     ]
    }
   ],
   "source": [
    "conjunto = {'🍕','🍔','🍟','🌭'}\n",
    "print(conjunto) # {'🍔', '🌭', '🍕', '🍟'}\n",
    "conjunto.add('🥗')\n",
    "print(conjunto)  # {'🍔', '🍕', '🥗', '🍟', '🌭'}"
   ]
  },
  {
   "cell_type": "markdown",
   "metadata": {},
   "source": [
    "### NO ordenados: Los elementos de un conjunto no tienen un orden especifico"
   ]
  },
  {
   "cell_type": "code",
   "execution_count": 12,
   "metadata": {},
   "outputs": [
    {
     "name": "stdout",
     "output_type": "stream",
     "text": [
      "{'🍕', '🍟', '🌭', '🍔'}\n"
     ]
    }
   ],
   "source": [
    "conjunto = {'🍕','🍔','🍟','🌭'}\n",
    "print(conjunto) # {'🍔', '🌭', '🍕', '🍟'}"
   ]
  },
  {
   "cell_type": "markdown",
   "metadata": {},
   "source": [
    "### NO indexados: Los elementos de un conjunto no pueden ser accedidos por un índice"
   ]
  },
  {
   "cell_type": "code",
   "execution_count": 13,
   "metadata": {},
   "outputs": [
    {
     "ename": "TypeError",
     "evalue": "'set' object is not subscriptable",
     "output_type": "error",
     "traceback": [
      "\u001b[1;31m---------------------------------------------------------------------------\u001b[0m",
      "\u001b[1;31mTypeError\u001b[0m                                 Traceback (most recent call last)",
      "Cell \u001b[1;32mIn[13], line 2\u001b[0m\n\u001b[0;32m      1\u001b[0m conjunto \u001b[38;5;241m=\u001b[39m {\u001b[38;5;124m'\u001b[39m\u001b[38;5;124m🍕\u001b[39m\u001b[38;5;124m'\u001b[39m,\u001b[38;5;124m'\u001b[39m\u001b[38;5;124m🍔\u001b[39m\u001b[38;5;124m'\u001b[39m,\u001b[38;5;124m'\u001b[39m\u001b[38;5;124m🍟\u001b[39m\u001b[38;5;124m'\u001b[39m,\u001b[38;5;124m'\u001b[39m\u001b[38;5;124m🌭\u001b[39m\u001b[38;5;124m'\u001b[39m}\n\u001b[1;32m----> 2\u001b[0m \u001b[38;5;28mprint\u001b[39m(\u001b[43mconjunto\u001b[49m\u001b[43m[\u001b[49m\u001b[38;5;241;43m0\u001b[39;49m\u001b[43m]\u001b[49m) \u001b[38;5;66;03m# TypeError: 'set' object is not subscriptable\u001b[39;00m\n",
      "\u001b[1;31mTypeError\u001b[0m: 'set' object is not subscriptable"
     ]
    }
   ],
   "source": [
    "conjunto = {'🍕','🍔','🍟','🌭'}\n",
    "print(conjunto[0]) # TypeError: 'set' object is not subscriptable"
   ]
  },
  {
   "cell_type": "markdown",
   "metadata": {},
   "source": [
    "### NO duplicados: Los elementos de un conjunto no pueden ser duplicados"
   ]
  },
  {
   "cell_type": "code",
   "execution_count": 14,
   "metadata": {},
   "outputs": [
    {
     "name": "stdout",
     "output_type": "stream",
     "text": [
      "{'🍕', '🍟', '🌭', '🍔'}\n"
     ]
    }
   ],
   "source": [
    "conjunto = {'🍕','🍔','🍟','🌭','🍕','🍟'}\n",
    "print(conjunto) # {'🍕', '🍟', '🌭', '🍔'}"
   ]
  },
  {
   "cell_type": "markdown",
   "metadata": {},
   "source": [
    "## Usos de los conjuntos\n",
    "###   Análisis de texto eliminando palabras repetidas\n",
    "###  Gestión de inventarios  \n",
    "###  Control de usuarios\n",
    "###   Control de permisos\n",
    "\n",
    "### También se puede declarar un conjunto utilizando la función set()\n",
    "### Y declarar conjuntos utilizando conjuntos por comprensión"
   ]
  },
  {
   "cell_type": "code",
   "execution_count": 15,
   "metadata": {},
   "outputs": [
    {
     "name": "stdout",
     "output_type": "stream",
     "text": [
      "Conjunto de enteros\n",
      "{1, 2, 3, 4, 5}\n",
      "<class 'set'>\n",
      "Conjunto de cadenas\n",
      "{'🍕', '🍟', '🌭', '🍔'}\n",
      "<class 'set'>\n",
      "Conjunto mixto\n",
      "{1, 3.14, '☕'}\n",
      "<class 'set'>\n"
     ]
    }
   ],
   "source": [
    "print (\"Conjunto de enteros\")\n",
    "conjunto = {1, 2, 3, 4, 5}\n",
    "print(conjunto) \n",
    "print(type(conjunto))\n",
    "\n",
    "print (\"Conjunto de cadenas\")\n",
    "conjunto = {'🍕','🍔','🍟','🌭'}\n",
    "print(conjunto)\n",
    "print(type(conjunto))\n",
    "\n",
    "print (\"Conjunto mixto\")\n",
    "conjunto = {1, True, 3.14, '☕'}\n",
    "print(conjunto)\n",
    "print(type(conjunto))"
   ]
  },
  {
   "cell_type": "markdown",
   "metadata": {},
   "source": [
    "### Se utiliza la función set() para crear conjuntos vacíos o a partir de una secuencia\n",
    "### Permite convertir secuencias como listas, tuplas, cadenas en conjuntos"
   ]
  },
  {
   "cell_type": "code",
   "execution_count": 16,
   "metadata": {},
   "outputs": [
    {
     "name": "stdout",
     "output_type": "stream",
     "text": [
      "Conjunto vacío\n",
      "set()\n",
      "<class 'set'>\n",
      "Conjunto a partir de la cadena\n",
      "{'H', 'n', 'u', 'l', ' ', 'd', 'o', 'M', 'a'}\n",
      "<class 'set'>\n",
      "Conjunto a partir de una tupla\n",
      "{1, 2, 3, 4, 5}\n",
      "<class 'set'>\n",
      "Conjunto a partir de una lista\n",
      "{False, True}\n",
      "<class 'set'>\n",
      "Conjunto por comprensión\n",
      "{'🍕', '🍟', '🍔'}\n",
      "<class 'set'>\n"
     ]
    }
   ],
   "source": [
    "print (\"Conjunto vacío\")\n",
    "conjunto = set()\n",
    "print(conjunto)\n",
    "print(type(conjunto))\n",
    "\n",
    "print (\"Conjunto a partir de la cadena\")\n",
    "cadena = 'Hola Mundo'\n",
    "conjunto = set(cadena)\n",
    "print(conjunto)\n",
    "print(type(conjunto))\n",
    "\n",
    "print (\"Conjunto a partir de una tupla\")\n",
    "tupla = (1, 2, 3, 4, 5, 5)\n",
    "conjunto = set(tupla)\n",
    "print(conjunto)\n",
    "print(type(conjunto))\n",
    "\n",
    "print (\"Conjunto a partir de una lista\")\n",
    "lista = [True, False, 0, 1]\n",
    "conjunto = set(lista)\n",
    "print(conjunto)\n",
    "print(type(conjunto))\n",
    "\n",
    "print (\"Conjunto por comprensión\")\n",
    "conjunto = {x for x in '🍕🍔🍟🍕🍔🍟🍔🍟'}\n",
    "print(conjunto)\n",
    "print(type(conjunto))"
   ]
  },
  {
   "cell_type": "markdown",
   "metadata": {},
   "source": [
    "### Indexación y Slicing\n",
    "### Los conjuntos no soportan indexación ni slicing\n",
    "### Porque no son ordenados ni indexados"
   ]
  },
  {
   "cell_type": "code",
   "execution_count": 17,
   "metadata": {},
   "outputs": [
    {
     "ename": "TypeError",
     "evalue": "'set' object is not subscriptable",
     "output_type": "error",
     "traceback": [
      "\u001b[1;31m---------------------------------------------------------------------------\u001b[0m",
      "\u001b[1;31mTypeError\u001b[0m                                 Traceback (most recent call last)",
      "Cell \u001b[1;32mIn[17], line 2\u001b[0m\n\u001b[0;32m      1\u001b[0m conjunto \u001b[38;5;241m=\u001b[39m {\u001b[38;5;241m1\u001b[39m, \u001b[38;5;241m2\u001b[39m, \u001b[38;5;241m3\u001b[39m, \u001b[38;5;241m4\u001b[39m, \u001b[38;5;241m5\u001b[39m}\n\u001b[1;32m----> 2\u001b[0m \u001b[38;5;28mprint\u001b[39m(\u001b[43mconjunto\u001b[49m\u001b[43m[\u001b[49m\u001b[38;5;241;43m0\u001b[39;49m\u001b[43m]\u001b[49m) \u001b[38;5;66;03m# TypeError: 'set' object is not subscriptable\u001b[39;00m\n\u001b[0;32m      4\u001b[0m conjunto \u001b[38;5;241m=\u001b[39m {\u001b[38;5;241m1\u001b[39m, \u001b[38;5;241m2\u001b[39m, \u001b[38;5;241m3\u001b[39m, \u001b[38;5;241m4\u001b[39m, \u001b[38;5;241m5\u001b[39m}\n\u001b[0;32m      5\u001b[0m \u001b[38;5;28mprint\u001b[39m(conjunto[\u001b[38;5;241m0\u001b[39m:\u001b[38;5;241m3\u001b[39m]) \u001b[38;5;66;03m# TypeError: 'set' object is not subscriptable\u001b[39;00m\n",
      "\u001b[1;31mTypeError\u001b[0m: 'set' object is not subscriptable"
     ]
    }
   ],
   "source": [
    "conjunto = {1, 2, 3, 4, 5}\n",
    "print(conjunto[0]) # TypeError: 'set' object is not subscriptable\n",
    "\n",
    "conjunto = {1, 2, 3, 4, 5}\n",
    "print(conjunto[0:3]) # TypeError: 'set' object is not subscriptable"
   ]
  },
  {
   "cell_type": "markdown",
   "metadata": {},
   "source": [
    "## Concatenación de conjuntos\n",
    "### Los conjuntos no soportan la concatenación con el operador +\n",
    "### Repetición con conjuntos\n",
    "### Los conjuntos no soportan la repetición con el operador *"
   ]
  },
  {
   "cell_type": "code",
   "execution_count": 19,
   "metadata": {},
   "outputs": [
    {
     "ename": "TypeError",
     "evalue": "unsupported operand type(s) for +: 'set' and 'set'",
     "output_type": "error",
     "traceback": [
      "\u001b[1;31m---------------------------------------------------------------------------\u001b[0m",
      "\u001b[1;31mTypeError\u001b[0m                                 Traceback (most recent call last)",
      "Cell \u001b[1;32mIn[19], line 3\u001b[0m\n\u001b[0;32m      1\u001b[0m conjunto1 \u001b[38;5;241m=\u001b[39m {\u001b[38;5;241m1\u001b[39m, \u001b[38;5;241m2\u001b[39m, \u001b[38;5;241m3\u001b[39m}\n\u001b[0;32m      2\u001b[0m conjunto2 \u001b[38;5;241m=\u001b[39m {\u001b[38;5;241m4\u001b[39m, \u001b[38;5;241m5\u001b[39m, \u001b[38;5;241m6\u001b[39m}\n\u001b[1;32m----> 3\u001b[0m \u001b[38;5;28mprint\u001b[39m(\u001b[43mconjunto1\u001b[49m\u001b[43m \u001b[49m\u001b[38;5;241;43m+\u001b[39;49m\u001b[43m \u001b[49m\u001b[43mconjunto2\u001b[49m)\n\u001b[0;32m      4\u001b[0m \u001b[38;5;66;03m# TypeError: unsupported operand type(s) for +: 'set' and 'set'\u001b[39;00m\n\u001b[0;32m      6\u001b[0m conjunto \u001b[38;5;241m=\u001b[39m {\u001b[38;5;241m1\u001b[39m, \u001b[38;5;241m2\u001b[39m, \u001b[38;5;241m3\u001b[39m}\n",
      "\u001b[1;31mTypeError\u001b[0m: unsupported operand type(s) for +: 'set' and 'set'"
     ]
    }
   ],
   "source": [
    "conjunto1 = {1, 2, 3}\n",
    "conjunto2 = {4, 5, 6}\n",
    "print(conjunto1 + conjunto2)\n",
    "# TypeError: unsupported operand type(s) for +: 'set' and 'set'\n",
    "\n",
    "conjunto = {1, 2, 3}\n",
    "print(conjunto * 3)\n",
    "# TypeError: unsupported operand type(s) for *: 'set' and 'int'"
   ]
  },
  {
   "cell_type": "markdown",
   "metadata": {},
   "source": [
    "## Métodos de los conjuntos\n",
    "### Los conjuntos soportan métodos como:\n",
    "\n",
    "##   Métodos de adición\n",
    "###       Los métodos de adición permiten agregar elementos a un conjunto\n",
    "###       add() recibe un valor y lo agrega al conjunto si no existe\n",
    "###       update() recibe una secuencia de valores y los agrega al conjunto si no existen\n",
    "###      No retorna ningún valor"
   ]
  },
  {
   "cell_type": "code",
   "execution_count": 20,
   "metadata": {},
   "outputs": [
    {
     "name": "stdout",
     "output_type": "stream",
     "text": [
      "Método add()\n",
      "{'🍕', '🍟', '🌭', '🍔'}\n",
      "{'🍕', '🥗', '🌭', '🍟', '🍔'}\n",
      "Método update()\n",
      "{'🍕', '🍟', '🌭', '🍔'}\n",
      "{'🍕', '🥤', '🍦', '🌭', '🍟', '🍔'}\n",
      "{'🍕', '🥤', '🍦', '🍪', '🍩', '🌭', '🍟', '🍔'}\n",
      "{'🍕', '🍫', '🥤', '🍦', '🍪', '🍬', '🍩', '🌭', '🍟', '🍔'}\n",
      "{'🍕', '🍫', '🥤', '🍦', '🍪', '🍬', '🍩', '🍮', '🍭', '🌭', '🍟', '🍔'}\n"
     ]
    }
   ],
   "source": [
    "print (\"Método add()\")\n",
    "conjunto = {'🍕','🍔','🍟','🌭'}\n",
    "print (conjunto)\n",
    "conjunto.add('🥗')\n",
    "print(conjunto)\n",
    "\n",
    "print (\"Método update()\")\n",
    "conjunto = {'🍕','🍔','🍟','🌭'}\n",
    "print (conjunto)\n",
    "conjunto.update(['🥤','🍦']) # agrego una lsita\n",
    "print(conjunto) \n",
    "conjunto.update('🍩🍪') # agrego un string\n",
    "print(conjunto) \n",
    "conjunto.update(('🍫','🍬')) # agrego una tupla\n",
    "print(conjunto)\n",
    "conjunto.update({'🍭','🍮'}) # agrego un conjunto\n",
    "print(conjunto)"
   ]
  },
  {
   "cell_type": "markdown",
   "metadata": {},
   "source": [
    "##   Métodos de eliminación\n",
    "###       Los métodos de eliminación permiten eliminar elementos de un conjunto\n",
    "###       remove() recibe un valor y lo elimina del conjunto si existe, si no existe lanza un error\n",
    "###       discard() recibe un valor y lo elimina del conjunto si existe, si no existe no lanza un error\n",
    "###       pop() elimina un elemento aleatorio del conjunto y lo retorna\n",
    "###       clear() elimina todos los elementos del conjunto\n",
    "###       Solo pop() retorna el elemento eliminado\n",
    "###       La diferencia entre discard y remove, es que con discard si no existe el valor a eliminiar\n",
    "###       no envia error, pero con remove si no existe el valor a eliminar si arroja error"
   ]
  },
  {
   "cell_type": "code",
   "execution_count": 21,
   "metadata": {},
   "outputs": [
    {
     "name": "stdout",
     "output_type": "stream",
     "text": [
      "Método discard()\n",
      "{'🍕', '🍟', '🌭', '🍔'}\n",
      "{'🍕', '🍟', '🌭'}\n",
      "{'🍕', '🍟', '🌭'}\n",
      "Método pop()\n",
      "{'🍕', '🌭', '🍟', '🍦', '🥤', '🍔'}\n",
      "🍕\n",
      "{'🌭', '🍟', '🍦', '🥤', '🍔'}\n",
      "🌭\n",
      "{'🍟', '🍦', '🥤', '🍔'}\n",
      "Método clear()\n",
      "{'🍕', '🍟', '🌭', '🍔'}\n",
      "set()\n"
     ]
    }
   ],
   "source": [
    "print (\"Método discard()\")\n",
    "conjunto = {'🍕','🍔','🍟','🌭'}\n",
    "print (conjunto)\n",
    "conjunto.discard('🍔')\n",
    "print(conjunto)\n",
    "conjunto.discard('🍔')\n",
    "print(conjunto)\n",
    "\n",
    "print (\"Método pop()\")\n",
    "conjunto = {'🍕','🍔','🍟','🌭', '🥤','🍦'}\n",
    "print (conjunto)\n",
    "print(conjunto.pop())\n",
    "print(conjunto)\n",
    "print(conjunto.pop())\n",
    "print(conjunto)\n",
    "\n",
    "print (\"Método clear()\")\n",
    "conjunto = {'🍕','🍔','🍟','🌭'}\n",
    "print (conjunto)\n",
    "conjunto.clear()\n",
    "print(conjunto)"
   ]
  },
  {
   "cell_type": "markdown",
   "metadata": {},
   "source": [
    "##   Métodos de operaciones con conjuntos\n",
    "###       union() : Unión de conjuntos. Recibe un conjunto y retorna la unión de ambos\n",
    "###           Contiene todos los elementos de ambos sin repetir\n",
    "###           A∪B={x∣x∈A∨x∈B}\n",
    "###       intersection() : Intersección de conjuntos. Recibe un conjunto y retorna la intersección de ambos\n",
    "###           Contiene los elementos que están en ambos conjuntos\n",
    "###           A∩B={x∣x∈A∧x∈B}\n",
    "###       difference() : Diferencia de conjuntos. Recibe un conjunto y retorna la diferencia de ambos conjuntos\n",
    "###           Los que están en el 1er conjunto pero no en el 2do\n",
    "###           A−B={x∣x∈A∧x∉B}\n",
    "###      symmetric_difference() : Diferencia simétrica de conjuntos. Recibe un conjunto y retorna la diferencia simétrica de ambos\n",
    "###           Contiene los elementos que están en un conjunto o en el otro pero no en ambos\n",
    "###              A△B={x∣x∈A∧x∉B∨x∈B∧x∉A}\n",
    "###       Retornan un nuevo conjunto con el resultado de la operación"
   ]
  },
  {
   "cell_type": "code",
   "execution_count": 22,
   "metadata": {},
   "outputs": [
    {
     "name": "stdout",
     "output_type": "stream",
     "text": [
      "Método union()\n",
      "{'🍟', '🥤', '🍔'} {'🍨', '🍕', '🥤'}\n",
      "{'🍨', '🍕', '🍟', '🥤', '🍔'}\n",
      "Método intersection()\n",
      "{'🍟', '🥤', '🍔'} {'🍨', '🍕', '🥤'}\n",
      "{'🥤'}\n",
      "Método difference()\n",
      "1: {'🍟', '🥤', '🍔'} 2: {'🍨', '🍕', '🥤'}\n",
      "1 y 2: {'🍟', '🍔'}\n",
      "2 y 1: {'🍨', '🍕'}\n",
      "Método symmetric_difference()\n",
      "{'🍟', '🥤', '🍔'} {'🍨', '🍕', '🥤'}\n",
      "{'🍕', '🍨', '🍟', '🍔'}\n"
     ]
    }
   ],
   "source": [
    "print (\"Método union()\")\n",
    "conjunto1 = {'🍔','🍟', '🥤'}\n",
    "conjunto2 = {'🍕','🍨','🥤'}\n",
    "print (conjunto1, conjunto2)\n",
    "union = conjunto1.union(conjunto2)\n",
    "print(union)\n",
    "\n",
    "print (\"Método intersection()\")\n",
    "conjunto1 = {'🍔','🍟', '🥤'}\n",
    "conjunto2 = {'🍕','🍨','🥤'}\n",
    "print (conjunto1, conjunto2)\n",
    "interseccion = conjunto1.intersection(conjunto2)\n",
    "print(interseccion)\n",
    " \n",
    "print (\"Método difference()\")\n",
    "conjunto1 = {'🍔','🍟', '🥤'}\n",
    "conjunto2 = {'🍕','🍨','🥤'}\n",
    "print (\"1:\",conjunto1, \"2:\",conjunto2)\n",
    "diferencia = conjunto1.difference(conjunto2)\n",
    "print(\"1 y 2:\",diferencia)\n",
    "diferencia = conjunto2.difference(conjunto1)\n",
    "print(\"2 y 1:\",diferencia)\n",
    "\n",
    "print (\"Método symmetric_difference()\")\n",
    "conjunto1 = {'🍔','🍟', '🥤'}\n",
    "conjunto2 = {'🍕','🍨','🥤'}\n",
    "print (conjunto1, conjunto2)\n",
    "diferencia_simetrica = conjunto1.symmetric_difference(conjunto2)\n",
    "print(diferencia_simetrica)"
   ]
  },
  {
   "cell_type": "markdown",
   "metadata": {},
   "source": [
    "##   Métodos de asignación con operaciones\n",
    "###   Permiten realizar operaciones con conjuntos y asignar el resultado al conjunto inicial\n",
    "###       intersection_update() : Intersección. Recibe un conjunto y asigna al conjunto inicial la intersección de ambos conjuntos\n",
    "###       difference_update() : Diferencia. Recibe un conjunto y asigna al conjunto inicial la diferencia de ambos conjuntos\n",
    "###       symmetric_difference_update() : Diferencia simétrica. Recibe un conjunto y asigna al conjunto inicial la diferencia simétrica de ambos conjuntos\n"
   ]
  },
  {
   "cell_type": "code",
   "execution_count": 23,
   "metadata": {},
   "outputs": [
    {
     "name": "stdout",
     "output_type": "stream",
     "text": [
      "Método intersection_update()\n",
      "{'🍟', '🥤', '🍔'} {'🍨', '🍕', '🥤'}\n",
      "{'🥤'}\n",
      "Método difference_update()\n",
      "1: {'🍟', '🥤', '🍔'} 2: {'🍨', '🍕', '🥤'}\n",
      "1: {'🍟', '🍔'} 2: {'🍨', '🍕', '🥤'}\n",
      "Método symmetric_difference_update()\n",
      "{'🍟', '🥤', '🍔'} {'🍨', '🍕', '🥤'}\n",
      "{'🍕', '🍨', '🍟', '🍔'}\n"
     ]
    }
   ],
   "source": [
    "print (\"Método intersection_update()\")\n",
    "conjunto1 = {'🍔','🍟', '🥤'}\n",
    "conjunto2 = {'🍕','🍨','🥤'}\n",
    "print (conjunto1, conjunto2)\n",
    "conjunto1.intersection_update(conjunto2)\n",
    "print(conjunto1)\n",
    "\n",
    "print (\"Método difference_update()\")\n",
    "conjunto1 = {'🍔','🍟', '🥤'}\n",
    "conjunto2 = {'🍕','🍨','🥤'}\n",
    "print (\"1:\",conjunto1, \"2:\",conjunto2)\n",
    "conjunto1.difference_update(conjunto2)\n",
    "print (\"1:\",conjunto1, \"2:\",conjunto2)\n",
    "\n",
    "print (\"Método symmetric_difference_update()\")\n",
    "conjunto1 = {'🍔','🍟', '🥤'}\n",
    "conjunto2 = {'🍕','🍨','🥤'}\n",
    "print (conjunto1, conjunto2)\n",
    "conjunto1.symmetric_difference_update(conjunto2)\n",
    "print(conjunto1)"
   ]
  },
  {
   "cell_type": "markdown",
   "metadata": {},
   "source": [
    "#   Métodos de búsqueda\n",
    "#   Los métodos de búsqueda permiten buscar elementos en un conjunto\n",
    "#       issubset() : Subconjunto. recibe una secuencia y retorna True si el conjunto es subconjunto del conjunto recibido\n",
    "#       issuperset() : Superconjunto. Recibe una secuencia y retorna True si el conjunto es superconjunto del conjunto recibido\n",
    "#       isdisjoint() : Disjunto. Recibe un secuencia y retorna True si el conjunto no tiene elementos en común con el conjunto recibido\n",
    "#       Retornan un valor booleano"
   ]
  },
  {
   "cell_type": "code",
   "execution_count": 24,
   "metadata": {},
   "outputs": [
    {
     "name": "stdout",
     "output_type": "stream",
     "text": [
      "Método issubset()\n",
      "{'🍟', '🥤', '🍔'} {'🍨', '🍕', '🥤'} {'🍟', '🍔'}\n",
      "False\n",
      "True\n",
      "Método issuperset()\n",
      "{'🍟', '🥤', '🍔'} {'🍨', '🍕', '🥤'} {'🍟', '🍔'}\n",
      "False\n",
      "True\n",
      "Método isdisjoint()\n",
      "{'🍟', '🥤', '🍔'} {'🍨', '🍕'} {'🍟', '🍔'}\n",
      "True\n",
      "False\n"
     ]
    }
   ],
   "source": [
    "print (\"Método issubset()\")\n",
    "conjunto1 = {'🍔','🍟', '🥤'}\n",
    "conjunto2 = {'🍕','🍨','🥤'}\n",
    "conjunto3 = {'🍔','🍟'}\n",
    "print (conjunto1, conjunto2,conjunto3)\n",
    "# ¿El conjunto1 es subconjunto del conjunto2?\n",
    "print(conjunto1.issubset(conjunto2))\n",
    "# ¿El conjunto3 es subconjunto del conjunto1?\n",
    "print(conjunto3.issubset(conjunto1))\n",
    "\n",
    "print (\"Método issuperset()\")\n",
    "conjunto1 = {'🍔','🍟', '🥤'}\n",
    "conjunto2 = {'🍕','🍨','🥤'}\n",
    "conjunto3 = {'🍔','🍟'}\n",
    "print (conjunto1, conjunto2,conjunto3)\n",
    "# ¿El conjunto1 es superconjunto del conjunto2?\n",
    "print(conjunto1.issuperset(conjunto2)) # C1 contiene a C2?\n",
    "# ¿El conjunto1 es superconjunto del conjunto2?\n",
    "print(conjunto1.issuperset(conjunto3)) # C1 contiene a C3?\n",
    "\n",
    "print (\"Método isdisjoint()\")\n",
    "conjunto1 = {'🍔','🍟', '🥤'}\n",
    "conjunto2 = {'🍕','🍨'}\n",
    "conjunto3 = {'🍔','🍟'}\n",
    "print (conjunto1, conjunto2,conjunto3)\n",
    "# ¿El conjunto1 no tiene elementos en común con el conjunto2?\n",
    "print(conjunto1.isdisjoint(conjunto2))\n",
    "# ¿El conjunto1 no tiene elementos en común con el conjunto3?\n",
    "print(conjunto1.isdisjoint(conjunto3))"
   ]
  },
  {
   "cell_type": "markdown",
   "metadata": {},
   "source": [
    "##   Métodos de copia\n",
    "###   Los métodos de copia permiten copiar un conjunto\n",
    "###       copy() Cuando se asigna un conjunto a una variable se asigna por referencia\n",
    "###       NO se crea una copia del conjunto sino una referencia al conjunto original\n",
    "###       Retorna un nuevo conjunto con los mismos elementos"
   ]
  },
  {
   "cell_type": "code",
   "execution_count": 25,
   "metadata": {},
   "outputs": [
    {
     "name": "stdout",
     "output_type": "stream",
     "text": [
      "Asignación por referencia\n",
      "{'🍕', '🍟', '🌭', '🍔'}\n",
      "{'🍕', '🥗', '🌭', '🍟', '🍔'}\n",
      "{'🍕', '🥗', '🌭', '🍟', '🍔'}\n",
      "Método copy()\n",
      "{'🍕', '🍟', '🌭', '🍔'}\n",
      "{'🍕', '🍟', '🌭', '🍔'}\n",
      "{'🍕', '🥗', '🌭', '🍟', '🍔'}\n"
     ]
    }
   ],
   "source": [
    "print (\"Asignación por referencia\")\n",
    "conjunto = {'🍕','🍔','🍟','🌭'}\n",
    "print (conjunto)\n",
    "copia = conjunto\n",
    "copia.add('🥗')\n",
    "print(conjunto)\n",
    "print(copia)\n",
    "\n",
    "#   Para crear una copia de un conjunto se utiliza el método copy()\n",
    "print (\"Método copy()\")\n",
    "conjunto = {'🍕','🍔','🍟','🌭'}\n",
    "print (conjunto)\n",
    "copia = conjunto.copy()\n",
    "copia.add('🥗')\n",
    "print(conjunto)\n",
    "print(copia)"
   ]
  },
  {
   "cell_type": "markdown",
   "metadata": {},
   "source": [
    "## Funciones con conjuntos\n",
    "### Los conjuntos interactúan con funciones propias de python que permiten secuencias\n",
    "###   len() retorna la cantidad de elementos del conjunto\n",
    "###   max() retorna el elemento mayor del conjunto\n",
    "###       Si el conjunto contiene cadenas retorna el elemento mayor en orden lexicográfico\n",
    "###       Si el conjunto contiene números retorna el valor mayor\n",
    "###   min() retorna el elemento menor del conjunto\n",
    "###       Si el conjunto contiene cadenas retorna el elemento menor en orden lexicográfico\n",
    "###       Si el conjunto contiene números retorna el valor menor\n",
    "###   sum() retorna la suma de los elementos del conjunto. Solo si el conjunto contiene números\n",
    "###   Existen otras funciones pueden encontrarse en la documentación y funciones incorporadas\n"
   ]
  },
  {
   "cell_type": "code",
   "execution_count": 26,
   "metadata": {},
   "outputs": [
    {
     "name": "stdout",
     "output_type": "stream",
     "text": [
      "Función len()\n",
      "{'🍕', '🍟', '🌭', '🍔'}\n",
      "4\n",
      "Función max()\n",
      "{1, 2, 3, 4, 5}\n",
      "5\n",
      "{'🍕', '🍟', '🌭', '🍔'}\n",
      "🍟\n",
      "Función min()\n",
      "{1, 2, 3, 4, 5}\n",
      "1\n",
      "{'🍨', '🍕', '🍟', '🍔'}\n",
      "🍔\n",
      "Función sum()\n",
      "{1, 2, 3, 4, 5}\n",
      "15\n"
     ]
    }
   ],
   "source": [
    "print (\"Función len()\")\n",
    "conjunto = {'🍕','🍔','🍟','🌭'}\n",
    "print (conjunto)\n",
    "print(len(conjunto))\n",
    "\n",
    "print (\"Función max()\")\n",
    "conjunto = {1, 2, 3, 4, 5}\n",
    "print (conjunto)\n",
    "print (max(conjunto))\n",
    "conjunto = {'🍕','🍔','🍟','🌭'}\n",
    "print (conjunto)\n",
    "print(max(conjunto))\n",
    "\n",
    "print (\"Función min()\")\n",
    "conjunto = {1, 2, 3, 4, 5}\n",
    "print (conjunto)\n",
    "print (min(conjunto))\n",
    "conjunto = {'🍨','🍔','🍟','🍕'}\n",
    "print (conjunto)\n",
    "print(min(conjunto))\n",
    "\n",
    "print (\"Función sum()\")\n",
    "conjunto = {1, 2, 3, 4, 5}\n",
    "print (conjunto)\n",
    "print (sum(conjunto))"
   ]
  },
  {
   "cell_type": "markdown",
   "metadata": {},
   "source": [
    "## Operadores con conjuntos\n",
    "### Los conjuntos soportan operadores que permiten realizar operaciones\n",
    "###   Operadores de adición. Los operadores de adición permiten agregar elementos a un conjunto\n",
    "###       Similar al método add()\n",
    "###       |= : Update\n",
    "###       |= recibe un conjunto y agrega al conjunto inicial los elementos del conjunto recibido\n"
   ]
  },
  {
   "cell_type": "code",
   "execution_count": 27,
   "metadata": {},
   "outputs": [
    {
     "name": "stdout",
     "output_type": "stream",
     "text": [
      "Operador |=\n",
      "{'🍟', '🥤', '🍔'} {'🍨', '🍕'}\n",
      "{'🍨', '🍕', '🍟', '🥤', '🍔'}\n"
     ]
    }
   ],
   "source": [
    "print (\"Operador |=\")\n",
    "conjunto1 = {'🍔','🍟', '🥤'}\n",
    "conjunto2 = {'🍕','🍨'}\n",
    "print (conjunto1, conjunto2)\n",
    "conjunto1 |= conjunto2\n",
    "print(conjunto1)"
   ]
  },
  {
   "cell_type": "markdown",
   "metadata": {},
   "source": [
    "##   Operadores de comparación. Los operadores de comparación permiten comparar conjuntos\n",
    "###       == : Igualdad. compara si dos conjuntos son iguales\n",
    "###       != : Desigualdad. compara si dos conjuntos son diferentes\n",
    "###       < : Es subconjunto y no igual. compara si un conjunto es subconjunto y no igual a otro\n",
    "###       > : Es superconjunto y no igual. compara si un conjunto es superconjunto y no igual a otro\n",
    "###       <= : Es subconjunto o igual. compara si un conjunto es subconjunto o igual a otro\n",
    "###       >= : Es superconjunto o igual. compara si un conjunto es superconjunto o igual a otro\n"
   ]
  },
  {
   "cell_type": "code",
   "execution_count": 28,
   "metadata": {},
   "outputs": [
    {
     "name": "stdout",
     "output_type": "stream",
     "text": [
      "Operador ==\n",
      "{'🍟', '🥤', '🍔'} {'🍟', '🥤', '🍔'} {'🍨', '🍕'}\n",
      "True\n",
      "False\n",
      "Operador !=\n",
      "{'🍟', '🥤', '🍔'} {'🍟', '🥤', '🍔'} {'🍨', '🍕'}\n",
      "False\n",
      "True\n",
      "Operador <\n",
      "{'🍟', '🍔'} {'🍟', '🥤', '🍔'} {'🍨', '🍕'}\n",
      "True\n",
      "False\n",
      "Operador >\n",
      "{'🍕', '🍟', '🥤', '🍔'} {'🍟', '🥤', '🍔'} {'🍨', '🍕'}\n",
      "True\n",
      "False\n",
      "Operador <=\n",
      "{'🍟', '🍔'} {'🍟', '🍔'} {'🍨', '🍕'}\n",
      "True\n",
      "False\n",
      "Operador >=\n",
      "{'🍟', '🍔'} {'🍟', '🍔'} {'🍨', '🍕'}\n",
      "True\n",
      "False\n"
     ]
    }
   ],
   "source": [
    "print (\"Operador ==\")\n",
    "conjunto1 = {'🍔','🍟', '🥤'}\n",
    "conjunto2 = {'🍔','🍟', '🥤'}\n",
    "conjunto3 = {'🍕','🍨'}\n",
    "print (conjunto1, conjunto2, conjunto3)\n",
    "print(conjunto1 == conjunto2)\n",
    "print(conjunto1 == conjunto3)\n",
    "\n",
    "print (\"Operador !=\")\n",
    "conjunto1 = {'🍔','🍟', '🥤'}\n",
    "conjunto2 = {'🍔','🍟', '🥤'}\n",
    "conjunto3 = {'🍕','🍨'}\n",
    "print (conjunto1, conjunto2, conjunto3)\n",
    "print(conjunto1 != conjunto2)\n",
    "print(conjunto1 != conjunto3)\n",
    "\n",
    "print (\"Operador <\")\n",
    "conjunto1 = {'🍔','🍟'}\n",
    "conjunto2 = {'🍔','🍟', '🥤'}\n",
    "conjunto3 = {'🍕','🍨'}\n",
    "print (conjunto1, conjunto2, conjunto3)\n",
    "print(conjunto1 < conjunto2)\n",
    "print(conjunto1 < conjunto3)\n",
    "\n",
    "print (\"Operador >\")\n",
    "conjunto1 = {'🍔','🍟','🥤','🍕'}\n",
    "conjunto2 = {'🍔','🍟', '🥤'}\n",
    "conjunto3 = {'🍕','🍨'}\n",
    "print (conjunto1, conjunto2, conjunto3)\n",
    "print(conjunto1 > conjunto2)\n",
    "print(conjunto1 > conjunto3)\n",
    "\n",
    "print (\"Operador <=\")\n",
    "conjunto1 = {'🍔','🍟'}\n",
    "conjunto2 = {'🍔','🍟'}\n",
    "conjunto3 = {'🍕','🍨'}\n",
    "print (conjunto1, conjunto2, conjunto3)\n",
    "print(conjunto1 <= conjunto2)\n",
    "print(conjunto1 <= conjunto3)\n",
    "\n",
    "print (\"Operador >=\")\n",
    "conjunto1 = {'🍔','🍟'}\n",
    "conjunto2 = {'🍔','🍟'}\n",
    "conjunto3 = {'🍕','🍨'}\n",
    "print (conjunto1, conjunto2, conjunto3)\n",
    "print(conjunto1 >= conjunto2)\n",
    "print(conjunto1 >= conjunto3)"
   ]
  },
  {
   "cell_type": "markdown",
   "metadata": {},
   "source": [
    "##   Operadores para operaciones con conjuntos\n",
    "###   Los operadores para operaciones con conjuntos permiten realizar operaciones con conjuntos\n",
    "###       | : Unión. | retorna la unión de dos conjuntos\n",
    "###       & : Intersección. & retorna la intersección de dos conjuntos\n",
    "###       - : Diferencia. - retorna la diferencia de dos conjuntos\n",
    "###       ^ : Diferencia simétrica. ^ retorna la diferencia simétrica de dos conjuntos"
   ]
  },
  {
   "cell_type": "code",
   "execution_count": 29,
   "metadata": {},
   "outputs": [
    {
     "name": "stdout",
     "output_type": "stream",
     "text": [
      "Operador |\n",
      "{'🍟', '🥤', '🍔'} {'🍨', '🍕', '🥤'}\n",
      "{'🍨', '🍕', '🍟', '🥤', '🍔'}\n",
      "Operador &\n",
      "{'🍟', '🥤', '🍔'} {'🍨', '🍕', '🥤'}\n",
      "{'🥤'}\n",
      "Operador -\n",
      "1: {'🍟', '🥤', '🍔'} 2: {'🍨', '🍕', '🥤'}\n",
      "1 - 2: {'🍟', '🍔'}\n",
      "2 - 1: {'🍨', '🍕'}\n",
      "Operador ^\n",
      "{'🍟', '🥤', '🍔'} {'🍨', '🍕', '🥤'}\n",
      "{'🍕', '🍨', '🍟', '🍔'}\n"
     ]
    }
   ],
   "source": [
    "print (\"Operador |\")\n",
    "conjunto1 = {'🍔','🍟', '🥤'}\n",
    "conjunto2 = {'🍕','🍨','🥤'}\n",
    "print (conjunto1, conjunto2)\n",
    "union = conjunto1 | conjunto2\n",
    "print(union)\n",
    "\n",
    "print (\"Operador &\")\n",
    "conjunto1 = {'🍔','🍟', '🥤'}\n",
    "conjunto2 = {'🍕','🍨','🥤'}\n",
    "print (conjunto1, conjunto2)\n",
    "interseccion = conjunto1 & conjunto2\n",
    "print(interseccion)\n",
    "\n",
    "print (\"Operador -\")\n",
    "conjunto1 = {'🍔','🍟', '🥤'}\n",
    "conjunto2 = {'🍕','🍨','🥤'}\n",
    "print (\"1:\",conjunto1, \"2:\",conjunto2)\n",
    "diferencia = conjunto1 - conjunto2\n",
    "print(\"1 - 2:\",diferencia)\n",
    "diferencia = conjunto2 - conjunto1\n",
    "print(\"2 - 1:\",diferencia)\n",
    "\n",
    "print (\"Operador ^\")\n",
    "conjunto1 = {'🍔','🍟', '🥤'}\n",
    "conjunto2 = {'🍕','🍨','🥤'}\n",
    "print (conjunto1, conjunto2)\n",
    "diferencia_simetrica = conjunto1 ^ conjunto2\n",
    "print(diferencia_simetrica)"
   ]
  },
  {
   "cell_type": "markdown",
   "metadata": {},
   "source": [
    "##   Operadores para asignación con operaciones\n",
    "###   Los operadores para asignación con operaciones permiten realizar operaciones con conjuntos y asignar el resultado al conjunto inicial\n",
    "###       |= : Unión. |= recibe un conjunto y agrega al conjunto inicial los elementos del conjunto recibido\n",
    "###       &= : Intersección. &= recibe un conjunto y asigna al conjunto inicial la intersección de ambos conjuntos\n",
    "###       -= : Diferencia. -= recibe un conjunto y asigna al conjunto inicial la diferencia de ambos conjuntos\n",
    "###       ^= : Diferencia simétrica. ^= recibe un conjunto y asigna al conjunto inicial la diferencia simétrica de ambos conjuntos\n"
   ]
  },
  {
   "cell_type": "code",
   "execution_count": 30,
   "metadata": {},
   "outputs": [
    {
     "name": "stdout",
     "output_type": "stream",
     "text": [
      "Operador |= Unión\n",
      "{'🍟', '🥤', '🍔'} {'🍨', '🍕', '🥤'}\n",
      "{'🍨', '🍕', '🍟', '🥤', '🍔'}\n",
      "Operador &= Intersección\n",
      "{'🍟', '🥤', '🍔'} {'🍨', '🍕', '🥤'}\n",
      "{'🥤'}\n",
      "Operador -= Diferencia\n",
      "1: {'🍟', '🥤', '🍔'} 2: {'🍨', '🍕', '🥤'}\n",
      "1 - 2: {'🍟', '🍔'}\n",
      "2 - 1: {'🍨', '🍕'}\n",
      "Operador ^= Diferencia simétrica\n",
      "{'🍟', '🥤', '🍔'} {'🍨', '🍕', '🥤'}\n",
      "{'🍕', '🍨', '🍟', '🍔'}\n"
     ]
    }
   ],
   "source": [
    "print (\"Operador |= Unión\")\n",
    "conjunto1 = {'🍔','🍟', '🥤'}\n",
    "conjunto2 = {'🍕','🍨','🥤'}\n",
    "print (conjunto1, conjunto2)\n",
    "conjunto1 |= conjunto2\n",
    "print(conjunto1)\n",
    " \n",
    "print (\"Operador &= Intersección\")\n",
    "conjunto1 = {'🍔','🍟', '🥤'}\n",
    "conjunto2 = {'🍕','🍨','🥤'}\n",
    "print (conjunto1, conjunto2)\n",
    "conjunto1 &= conjunto2\n",
    "print(conjunto1)\n",
    " \n",
    "print (\"Operador -= Diferencia\")\n",
    "conjunto1 = {'🍔','🍟', '🥤'}\n",
    "conjunto2 = {'🍕','🍨','🥤'}\n",
    "print (\"1:\",conjunto1, \"2:\",conjunto2)\n",
    "conjunto1 -= conjunto2\n",
    "print(\"1 - 2:\",conjunto1)\n",
    "conjunto1 = {'🍔','🍟', '🥤'}\n",
    "conjunto2 -= conjunto1\n",
    "print(\"2 - 1:\",conjunto2)\n",
    " \n",
    "print (\"Operador ^= Diferencia simétrica\")\n",
    "conjunto1 = {'🍔','🍟', '🥤'}\n",
    "conjunto2 = {'🍕','🍨','🥤'}\n",
    "print (conjunto1, conjunto2)\n",
    "conjunto1 ^= conjunto2\n",
    "print(conjunto1)"
   ]
  },
  {
   "cell_type": "markdown",
   "metadata": {},
   "source": [
    "## Conjuntos inmutables\n",
    "### Los conjuntos inmutables son conjuntos que no pueden ser modificados después de su creación\n",
    "### En python se declaran utilizando la función frozenset()"
   ]
  },
  {
   "cell_type": "code",
   "execution_count": 31,
   "metadata": {},
   "outputs": [
    {
     "name": "stdout",
     "output_type": "stream",
     "text": [
      "frozenset({'🍕', '🥗', '🌭', '🍟', '🍔'})\n",
      "<class 'frozenset'>\n"
     ]
    }
   ],
   "source": [
    "conjunto = frozenset({'🍔','🍕','🥗','🍟','🌭'})\n",
    "print(conjunto)\n",
    "print(type(conjunto))"
   ]
  },
  {
   "cell_type": "markdown",
   "metadata": {},
   "source": [
    "### Poseen los mismos métodos que los conjuntos mutables pero no poseen los métodos de adición, eliminación y asignaciones con operaciones\n"
   ]
  },
  {
   "cell_type": "code",
   "execution_count": 32,
   "metadata": {},
   "outputs": [
    {
     "name": "stdout",
     "output_type": "stream",
     "text": [
      "frozenset({1, 2, 3, 4, 5})\n"
     ]
    },
    {
     "ename": "AttributeError",
     "evalue": "'frozenset' object has no attribute 'add'",
     "output_type": "error",
     "traceback": [
      "\u001b[1;31m---------------------------------------------------------------------------\u001b[0m",
      "\u001b[1;31mAttributeError\u001b[0m                            Traceback (most recent call last)",
      "Cell \u001b[1;32mIn[32], line 3\u001b[0m\n\u001b[0;32m      1\u001b[0m conjunto \u001b[38;5;241m=\u001b[39m \u001b[38;5;28mfrozenset\u001b[39m({\u001b[38;5;241m1\u001b[39m, \u001b[38;5;241m2\u001b[39m, \u001b[38;5;241m3\u001b[39m, \u001b[38;5;241m4\u001b[39m, \u001b[38;5;241m5\u001b[39m})\n\u001b[0;32m      2\u001b[0m \u001b[38;5;28mprint\u001b[39m(conjunto)\n\u001b[1;32m----> 3\u001b[0m \u001b[38;5;28mprint\u001b[39m(\u001b[43mconjunto\u001b[49m\u001b[38;5;241;43m.\u001b[39;49m\u001b[43madd\u001b[49m(\u001b[38;5;241m6\u001b[39m)) \u001b[38;5;66;03m# AttributeError: 'frozenset' object has no attribute 'add'\u001b[39;00m\n\u001b[0;32m      4\u001b[0m \u001b[38;5;28mprint\u001b[39m(conjunto\u001b[38;5;241m.\u001b[39mremove(\u001b[38;5;241m1\u001b[39m)) \u001b[38;5;66;03m# AttributeError: 'frozenset' object has no attribute 'remove'\u001b[39;00m\n\u001b[0;32m      5\u001b[0m \u001b[38;5;66;03m# print (conjunto |= {6} )# SyntaxError: invalid syntax\u001b[39;00m\n",
      "\u001b[1;31mAttributeError\u001b[0m: 'frozenset' object has no attribute 'add'"
     ]
    }
   ],
   "source": [
    "conjunto = frozenset({1, 2, 3, 4, 5})\n",
    "print(conjunto)\n",
    "print(conjunto.add(6)) # AttributeError: 'frozenset' object has no attribute 'add'\n",
    "print(conjunto.remove(1)) # AttributeError: 'frozenset' object has no attribute 'remove'\n",
    "# print (conjunto |= {6} )# SyntaxError: invalid syntax"
   ]
  },
  {
   "cell_type": "markdown",
   "metadata": {},
   "source": [
    "## Conjuntos anidados\n",
    "### Los conjuntos anidados son conjuntos que contienen otros conjuntos pero tienen que ser inmutables para ser anidados\n"
   ]
  },
  {
   "cell_type": "code",
   "execution_count": 33,
   "metadata": {},
   "outputs": [
    {
     "name": "stdout",
     "output_type": "stream",
     "text": [
      "Conjunto de conjuntos\n",
      "{frozenset({'🍐', '🍈', '🍏'}), frozenset({'🍎', '🍓', '🍅'})}\n",
      "<class 'set'>\n"
     ]
    }
   ],
   "source": [
    "print (\"Conjunto de conjuntos\")\n",
    "conjunto = {frozenset({'🍅','🍓','🍎'}), frozenset({'🍈','🍐','🍏'})}\n",
    "print(conjunto)\n",
    "print(type(conjunto))"
   ]
  },
  {
   "cell_type": "markdown",
   "metadata": {},
   "source": [
    "### Si se intenta anidar un conjunto mutable se lanza un error"
   ]
  },
  {
   "cell_type": "code",
   "execution_count": 34,
   "metadata": {},
   "outputs": [
    {
     "name": "stdout",
     "output_type": "stream",
     "text": [
      "Conjunto de conjuntos\n"
     ]
    },
    {
     "ename": "TypeError",
     "evalue": "unhashable type: 'set'",
     "output_type": "error",
     "traceback": [
      "\u001b[1;31m---------------------------------------------------------------------------\u001b[0m",
      "\u001b[1;31mTypeError\u001b[0m                                 Traceback (most recent call last)",
      "Cell \u001b[1;32mIn[34], line 2\u001b[0m\n\u001b[0;32m      1\u001b[0m \u001b[38;5;28mprint\u001b[39m (\u001b[38;5;124m\"\u001b[39m\u001b[38;5;124mConjunto de conjuntos\u001b[39m\u001b[38;5;124m\"\u001b[39m)\n\u001b[1;32m----> 2\u001b[0m conjunto \u001b[38;5;241m=\u001b[39m {{\u001b[38;5;124m'\u001b[39m\u001b[38;5;124m🍅\u001b[39m\u001b[38;5;124m'\u001b[39m,\u001b[38;5;124m'\u001b[39m\u001b[38;5;124m🍓\u001b[39m\u001b[38;5;124m'\u001b[39m,\u001b[38;5;124m'\u001b[39m\u001b[38;5;124m🍎\u001b[39m\u001b[38;5;124m'\u001b[39m}, {\u001b[38;5;124m'\u001b[39m\u001b[38;5;124m🍈\u001b[39m\u001b[38;5;124m'\u001b[39m,\u001b[38;5;124m'\u001b[39m\u001b[38;5;124m🍐\u001b[39m\u001b[38;5;124m'\u001b[39m,\u001b[38;5;124m'\u001b[39m\u001b[38;5;124m🍏\u001b[39m\u001b[38;5;124m'\u001b[39m}} \u001b[38;5;66;03m#TypeError: unhashable type: 'set'\u001b[39;00m\n\u001b[0;32m      3\u001b[0m \u001b[38;5;28mprint\u001b[39m(conjunto)\n\u001b[0;32m      4\u001b[0m \u001b[38;5;28mprint\u001b[39m(\u001b[38;5;28mtype\u001b[39m(conjunto))\n",
      "\u001b[1;31mTypeError\u001b[0m: unhashable type: 'set'"
     ]
    }
   ],
   "source": [
    "print (\"Conjunto de conjuntos\")\n",
    "conjunto = {{'🍅','🍓','🍎'}, {'🍈','🍐','🍏'}} #TypeError: unhashable type: 'set'\n",
    "print(conjunto)\n",
    "print(type(conjunto))"
   ]
  }
 ],
 "metadata": {
  "kernelspec": {
   "display_name": "Python 3",
   "language": "python",
   "name": "python3"
  },
  "language_info": {
   "codemirror_mode": {
    "name": "ipython",
    "version": 3
   },
   "file_extension": ".py",
   "mimetype": "text/x-python",
   "name": "python",
   "nbconvert_exporter": "python",
   "pygments_lexer": "ipython3",
   "version": "3.12.2"
  }
 },
 "nbformat": 4,
 "nbformat_minor": 2
}
