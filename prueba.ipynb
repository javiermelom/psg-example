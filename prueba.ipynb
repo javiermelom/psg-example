{
 "cells": [
  {
   "cell_type": "markdown",
   "metadata": {},
   "source": [
    "# Crear una función que reciba una lista de números y devuelva solo los números pares"
   ]
  },
  {
   "cell_type": "code",
   "execution_count": 20,
   "metadata": {},
   "outputs": [
    {
     "name": "stdout",
     "output_type": "stream",
     "text": [
      "<class 'str'> 10,20,15,6,58,93,3,6,3,2,4,5,6,8,80,88,3\n",
      "<class 'list'> ['10', '20', '15', '6', '58', '93', '3', '6', '3', '2', '4', '5', '6', '8', '80', '88', '3']\n",
      "[10, 20, 6, 58, 6, 2, 4, 6, 8, 80, 88]\n"
     ]
    }
   ],
   "source": [
    "def num_pares (numeros):\n",
    "    return [num for num in numeros if num % 2 == 0]\n",
    "\n",
    "list_caracter = input(\"Ingrese lista numeros sin espacios y separados por el simbolo de coma: \")\n",
    "print (type(list_caracter), list_caracter)\n",
    "list_separados = list_caracter.split(\",\")\n",
    "print(type(list_separados),list_separados)\n",
    "lista_numeros = list(map(int, list_separados))\n",
    "resultado = num_pares (lista_numeros)\n",
    "print (resultado)\n",
    "\n"
   ]
  }
 ],
 "metadata": {
  "kernelspec": {
   "display_name": "Python 3",
   "language": "python",
   "name": "python3"
  },
  "language_info": {
   "codemirror_mode": {
    "name": "ipython",
    "version": 3
   },
   "file_extension": ".py",
   "mimetype": "text/x-python",
   "name": "python",
   "nbconvert_exporter": "python",
   "pygments_lexer": "ipython3",
   "version": "3.12.2"
  }
 },
 "nbformat": 4,
 "nbformat_minor": 2
}
