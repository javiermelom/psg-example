{
 "cells": [
  {
   "cell_type": "code",
   "execution_count": 6,
   "metadata": {},
   "outputs": [
    {
     "name": "stdout",
     "output_type": "stream",
     "text": [
      "36.8\n"
     ]
    }
   ],
   "source": [
    "def promedio_matematicas(calificaciones):\n",
    "    promedio = 0\n",
    "    for nota in calificaciones:\n",
    "        promedio += nota\n",
    "    return promedio / len(calificaciones)\n",
    "    \n",
    "lista = [20,40,60,51,13]\n",
    "result = promedio_matematicas(lista)\n",
    "print (result)\n",
    "\n",
    "\n"
   ]
  }
 ],
 "metadata": {
  "kernelspec": {
   "display_name": "Python 3",
   "language": "python",
   "name": "python3"
  },
  "language_info": {
   "codemirror_mode": {
    "name": "ipython",
    "version": 3
   },
   "file_extension": ".py",
   "mimetype": "text/x-python",
   "name": "python",
   "nbconvert_exporter": "python",
   "pygments_lexer": "ipython3",
   "version": "3.12.2"
  }
 },
 "nbformat": 4,
 "nbformat_minor": 2
}
